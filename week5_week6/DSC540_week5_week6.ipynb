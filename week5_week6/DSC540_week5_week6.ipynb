{
 "cells": [
  {
   "cell_type": "markdown",
   "id": "74d6ae2f",
   "metadata": {},
   "source": [
    "# Activity 07"
   ]
  },
  {
   "cell_type": "code",
   "execution_count": 36,
   "id": "fb0ec0ef",
   "metadata": {},
   "outputs": [],
   "source": [
    "from bs4 import BeautifulSoup\n",
    "import pandas as pd"
   ]
  },
  {
   "cell_type": "code",
   "execution_count": 41,
   "id": "a3620782",
   "metadata": {},
   "outputs": [],
   "source": [
    "fd = open(\"List of countries by GDP (nominal) - Wikipedia.htm\", \"r\", encoding='utf-8')\n",
    "soup = BeautifulSoup(fd)\n",
    "fd.close()"
   ]
  },
  {
   "cell_type": "code",
   "execution_count": 42,
   "id": "316175e2",
   "metadata": {},
   "outputs": [
    {
     "name": "stdout",
     "output_type": "stream",
     "text": [
      "Total number of tables are 9 \n"
     ]
    }
   ],
   "source": [
    "#Number of tables identified in the URL\n",
    "all_tables = soup.find_all(\"table\")\n",
    "print(\"Total number of tables are {} \".format(len(all_tables)))"
   ]
  },
  {
   "cell_type": "code",
   "execution_count": 44,
   "id": "9044a9ca",
   "metadata": {},
   "outputs": [
    {
     "name": "stdout",
     "output_type": "stream",
     "text": [
      "<class 'bs4.element.Tag'>\n"
     ]
    }
   ],
   "source": [
    "# Verifying tables and their classes and find the right table\n",
    "data_table = soup.find(\"table\", {\"class\": '\"wikitable\"|}'})\n",
    "print(type(data_table))"
   ]
  },
  {
   "cell_type": "code",
   "execution_count": 45,
   "id": "8481e29f",
   "metadata": {},
   "outputs": [
    {
     "name": "stdout",
     "output_type": "stream",
     "text": [
      "3\n"
     ]
    }
   ],
   "source": [
    "#separation of source and their corresponding data\n",
    "sources = data_table.tbody.findAll('tr', recursive=False)[0]\n",
    "sources_list = [td for td in sources.findAll('td')]\n",
    "print(len(sources_list))"
   ]
  },
  {
   "cell_type": "code",
   "execution_count": 46,
   "id": "f22eeba2",
   "metadata": {},
   "outputs": [],
   "source": [
    "data = data_table.tbody.findAll('tr', recursive=False)[1].findAll('td', recursive=False)"
   ]
  },
  {
   "cell_type": "code",
   "execution_count": 47,
   "id": "5d774f94",
   "metadata": {},
   "outputs": [
    {
     "data": {
      "text/plain": [
       "3"
      ]
     },
     "execution_count": 47,
     "metadata": {},
     "output_type": "execute_result"
    }
   ],
   "source": [
    "data_tables = []\n",
    "for td in data:\n",
    "    data_tables.append(td.findAll('table'))\n",
    "    \n",
    "len(data_tables)"
   ]
  },
  {
   "cell_type": "code",
   "execution_count": 48,
   "id": "2e078b36",
   "metadata": {},
   "outputs": [
    {
     "name": "stdout",
     "output_type": "stream",
     "text": [
      "[<td style=\"width:33%; text-align:center;\"><b>Per the <a href=\"https://en.wikipedia.org/wiki/International_Monetary_Fund\" title=\"International Monetary Fund\">International Monetary Fund</a> (2017)</b><sup class=\"reference\" id=\"cite_ref-GDP_IMF_1-2\"><a href=\"https://en.wikipedia.org/wiki/List_of_countries_by_GDP_(nominal)#cite_note-GDP_IMF-1\">[1]</a></sup>\n",
      "</td>, <td style=\"width:33%; text-align:center;\"><b>Per the <a href=\"https://en.wikipedia.org/wiki/World_Bank\" title=\"World Bank\">World Bank</a> (2017)</b><sup class=\"reference\" id=\"cite_ref-worldbank_20-0\"><a href=\"https://en.wikipedia.org/wiki/List_of_countries_by_GDP_(nominal)#cite_note-worldbank-20\">[20]</a></sup>\n",
      "</td>, <td style=\"width:33%; text-align:center;\"><b>Per the <a href=\"https://en.wikipedia.org/wiki/United_Nations\" title=\"United Nations\">United Nations</a> (2016)</b><sup class=\"reference\" id=\"cite_ref-21\"><a href=\"https://en.wikipedia.org/wiki/List_of_countries_by_GDP_(nominal)#cite_note-21\">[21]</a></sup><sup class=\"reference\" id=\"cite_ref-22\"><a href=\"https://en.wikipedia.org/wiki/List_of_countries_by_GDP_(nominal)#cite_note-22\">[22]</a></sup>\n",
      "</td>]\n"
     ]
    }
   ],
   "source": [
    "# Getting the source names from the list of sources\n",
    "print(sources_list)"
   ]
  },
  {
   "cell_type": "code",
   "execution_count": 49,
   "id": "7fcc6ff9",
   "metadata": {},
   "outputs": [
    {
     "name": "stdout",
     "output_type": "stream",
     "text": [
      "['International Monetary Fund', 'World Bank', 'United Nations']\n"
     ]
    }
   ],
   "source": [
    "source_names = [source.findAll('a')[0].getText() for source in sources_list]\n",
    "print(source_names)"
   ]
  },
  {
   "cell_type": "code",
   "execution_count": 50,
   "id": "fa31e26c",
   "metadata": {},
   "outputs": [
    {
     "data": {
      "text/plain": [
       "['Rank', 'Country', 'GDP(US$MM)']"
      ]
     },
     "execution_count": 50,
     "metadata": {},
     "output_type": "execute_result"
    }
   ],
   "source": [
    "# Sepration of header and the data\n",
    "header1 = [th.getText().strip() for th in data_tables[0][0].findAll('thead')[0].findAll('th')]\n",
    "header1"
   ]
  },
  {
   "cell_type": "code",
   "execution_count": 51,
   "id": "4e7e4716",
   "metadata": {},
   "outputs": [],
   "source": [
    "rows1 = data_tables[0][0].findAll('tbody')[0].findAll('tr')[1:]"
   ]
  },
  {
   "cell_type": "code",
   "execution_count": 52,
   "id": "c61a22f6",
   "metadata": {},
   "outputs": [],
   "source": [
    "data_rows1 = [[td.get_text().strip() for td in tr.findAll('td')] for tr in rows1]"
   ]
  },
  {
   "cell_type": "code",
   "execution_count": 53,
   "id": "034b9763",
   "metadata": {},
   "outputs": [
    {
     "data": {
      "text/plain": [
       "<bound method NDFrame.head of     Rank                         Country  GDP(US$MM)\n",
       "0      1                   United States  19,390,600\n",
       "1      2                      China[n 1]  12,014,610\n",
       "2      3                           Japan   4,872,135\n",
       "3      4                         Germany   3,684,816\n",
       "4      5                  United Kingdom   2,624,529\n",
       "..   ...                             ...         ...\n",
       "186  186  Federated States of Micronesia         329\n",
       "187  187                           Palau         321\n",
       "188  188                Marshall Islands         199\n",
       "189  189                        Kiribati         186\n",
       "190  190                          Tuvalu          40\n",
       "\n",
       "[191 rows x 3 columns]>"
      ]
     },
     "execution_count": 53,
     "metadata": {},
     "output_type": "execute_result"
    }
   ],
   "source": [
    "gdp_data = pd.DataFrame(data_rows1, columns=header1)\n",
    "gdp_data.head"
   ]
  },
  {
   "cell_type": "code",
   "execution_count": 54,
   "id": "22f610ce",
   "metadata": {},
   "outputs": [
    {
     "data": {
      "text/plain": [
       "['Rank', 'Country', 'GDP(US$MM)']"
      ]
     },
     "execution_count": 54,
     "metadata": {},
     "output_type": "execute_result"
    }
   ],
   "source": [
    "#Performing same task for other two sources\n",
    "header2 = [th.getText().strip() for th in data_tables[1][0].findAll('thead')[0].findAll('th')]\n",
    "header2"
   ]
  },
  {
   "cell_type": "code",
   "execution_count": 55,
   "id": "597e2853",
   "metadata": {},
   "outputs": [],
   "source": [
    "rows2 = data_tables[1][0].findAll('tbody')[0].findAll('tr')[1:]"
   ]
  },
  {
   "cell_type": "code",
   "execution_count": 57,
   "id": "1ad0b982",
   "metadata": {},
   "outputs": [],
   "source": [
    "def find_right_text(i, td):\n",
    "    if i == 0:\n",
    "        return td.getText().strip()\n",
    "    elif i == 1:\n",
    "        return td.getText().strip()\n",
    "    else:\n",
    "        index = td.text.find(\"♠\")\n",
    "        return td.text[index+1:].strip()"
   ]
  },
  {
   "cell_type": "code",
   "execution_count": 58,
   "id": "b3245db1",
   "metadata": {},
   "outputs": [],
   "source": [
    "data_rows2 = [[find_right_text(i, td) for i, td in enumerate(tr.findAll('td'))] for tr in rows2]"
   ]
  },
  {
   "cell_type": "code",
   "execution_count": 59,
   "id": "73c0c37a",
   "metadata": {},
   "outputs": [],
   "source": [
    "data_rows2 = [[find_right_text(i, td) for i, td in enumerate(tr.findAll('td'))] for tr in rows2]"
   ]
  },
  {
   "cell_type": "code",
   "execution_count": 60,
   "id": "cc9fffa3",
   "metadata": {},
   "outputs": [
    {
     "data": {
      "text/html": [
       "<div>\n",
       "<style scoped>\n",
       "    .dataframe tbody tr th:only-of-type {\n",
       "        vertical-align: middle;\n",
       "    }\n",
       "\n",
       "    .dataframe tbody tr th {\n",
       "        vertical-align: top;\n",
       "    }\n",
       "\n",
       "    .dataframe thead th {\n",
       "        text-align: right;\n",
       "    }\n",
       "</style>\n",
       "<table border=\"1\" class=\"dataframe\">\n",
       "  <thead>\n",
       "    <tr style=\"text-align: right;\">\n",
       "      <th></th>\n",
       "      <th>Rank</th>\n",
       "      <th>Country</th>\n",
       "      <th>GDP(US$MM)</th>\n",
       "    </tr>\n",
       "  </thead>\n",
       "  <tbody>\n",
       "    <tr>\n",
       "      <th>0</th>\n",
       "      <td>1</td>\n",
       "      <td>United States</td>\n",
       "      <td>19,390,604</td>\n",
       "    </tr>\n",
       "    <tr>\n",
       "      <th>1</th>\n",
       "      <td></td>\n",
       "      <td>European Union[23]</td>\n",
       "      <td>17,277,698</td>\n",
       "    </tr>\n",
       "    <tr>\n",
       "      <th>2</th>\n",
       "      <td>2</td>\n",
       "      <td>China[n 4]</td>\n",
       "      <td>12,237,700</td>\n",
       "    </tr>\n",
       "    <tr>\n",
       "      <th>3</th>\n",
       "      <td>3</td>\n",
       "      <td>Japan</td>\n",
       "      <td>4,872,137</td>\n",
       "    </tr>\n",
       "    <tr>\n",
       "      <th>4</th>\n",
       "      <td>4</td>\n",
       "      <td>Germany</td>\n",
       "      <td>3,677,439</td>\n",
       "    </tr>\n",
       "  </tbody>\n",
       "</table>\n",
       "</div>"
      ],
      "text/plain": [
       "  Rank             Country  GDP(US$MM)\n",
       "0    1       United States  19,390,604\n",
       "1       European Union[23]  17,277,698\n",
       "2    2          China[n 4]  12,237,700\n",
       "3    3               Japan   4,872,137\n",
       "4    4             Germany   3,677,439"
      ]
     },
     "execution_count": 60,
     "metadata": {},
     "output_type": "execute_result"
    }
   ],
   "source": [
    "gdp_data2 = pd.DataFrame(data_rows2, columns=header2)\n",
    "gdp_data2.head()"
   ]
  },
  {
   "cell_type": "code",
   "execution_count": 61,
   "id": "2dfb8f2c",
   "metadata": {},
   "outputs": [
    {
     "data": {
      "text/plain": [
       "['Rank', 'Country', 'GDP(US$MM)']"
      ]
     },
     "execution_count": 61,
     "metadata": {},
     "output_type": "execute_result"
    }
   ],
   "source": [
    "header3 = [th.getText().strip() for th in data_tables[2][0].findAll('thead')[0].findAll('th')]\n",
    "header3"
   ]
  },
  {
   "cell_type": "code",
   "execution_count": 62,
   "id": "7ccf5184",
   "metadata": {},
   "outputs": [],
   "source": [
    "rows3 = data_tables[2][0].findAll('tbody')[0].findAll('tr')[1:]"
   ]
  },
  {
   "cell_type": "code",
   "execution_count": 63,
   "id": "e62430a5",
   "metadata": {},
   "outputs": [],
   "source": [
    "data_rows3 = [[find_right_text(i, td) for i, td in enumerate(tr.findAll('td'))] for tr in rows2]"
   ]
  },
  {
   "cell_type": "code",
   "execution_count": 65,
   "id": "80296b03",
   "metadata": {},
   "outputs": [
    {
     "data": {
      "text/html": [
       "<div>\n",
       "<style scoped>\n",
       "    .dataframe tbody tr th:only-of-type {\n",
       "        vertical-align: middle;\n",
       "    }\n",
       "\n",
       "    .dataframe tbody tr th {\n",
       "        vertical-align: top;\n",
       "    }\n",
       "\n",
       "    .dataframe thead th {\n",
       "        text-align: right;\n",
       "    }\n",
       "</style>\n",
       "<table border=\"1\" class=\"dataframe\">\n",
       "  <thead>\n",
       "    <tr style=\"text-align: right;\">\n",
       "      <th></th>\n",
       "      <th>Rank</th>\n",
       "      <th>Country</th>\n",
       "      <th>GDP(US$MM)</th>\n",
       "    </tr>\n",
       "  </thead>\n",
       "  <tbody>\n",
       "    <tr>\n",
       "      <th>0</th>\n",
       "      <td>1</td>\n",
       "      <td>United States</td>\n",
       "      <td>19,390,604</td>\n",
       "    </tr>\n",
       "    <tr>\n",
       "      <th>1</th>\n",
       "      <td></td>\n",
       "      <td>European Union[23]</td>\n",
       "      <td>17,277,698</td>\n",
       "    </tr>\n",
       "    <tr>\n",
       "      <th>2</th>\n",
       "      <td>2</td>\n",
       "      <td>China[n 4]</td>\n",
       "      <td>12,237,700</td>\n",
       "    </tr>\n",
       "    <tr>\n",
       "      <th>3</th>\n",
       "      <td>3</td>\n",
       "      <td>Japan</td>\n",
       "      <td>4,872,137</td>\n",
       "    </tr>\n",
       "    <tr>\n",
       "      <th>4</th>\n",
       "      <td>4</td>\n",
       "      <td>Germany</td>\n",
       "      <td>3,677,439</td>\n",
       "    </tr>\n",
       "  </tbody>\n",
       "</table>\n",
       "</div>"
      ],
      "text/plain": [
       "  Rank             Country  GDP(US$MM)\n",
       "0    1       United States  19,390,604\n",
       "1       European Union[23]  17,277,698\n",
       "2    2          China[n 4]  12,237,700\n",
       "3    3               Japan   4,872,137\n",
       "4    4             Germany   3,677,439"
      ]
     },
     "execution_count": 65,
     "metadata": {},
     "output_type": "execute_result"
    }
   ],
   "source": [
    "gdp_data3 = pd.DataFrame(data_rows3, columns=header3)\n",
    "gdp_data3.head()"
   ]
  },
  {
   "cell_type": "markdown",
   "id": "fe18c9a6",
   "metadata": {},
   "source": [
    "# Activity 08"
   ]
  },
  {
   "cell_type": "code",
   "execution_count": 75,
   "id": "87b75b6a",
   "metadata": {},
   "outputs": [
    {
     "data": {
      "text/html": [
       "<div>\n",
       "<style scoped>\n",
       "    .dataframe tbody tr th:only-of-type {\n",
       "        vertical-align: middle;\n",
       "    }\n",
       "\n",
       "    .dataframe tbody tr th {\n",
       "        vertical-align: top;\n",
       "    }\n",
       "\n",
       "    .dataframe thead th {\n",
       "        text-align: right;\n",
       "    }\n",
       "</style>\n",
       "<table border=\"1\" class=\"dataframe\">\n",
       "  <thead>\n",
       "    <tr style=\"text-align: right;\">\n",
       "      <th></th>\n",
       "      <th>id</th>\n",
       "      <th>first_name</th>\n",
       "      <th>last_name</th>\n",
       "      <th>email</th>\n",
       "      <th>gender</th>\n",
       "      <th>ip_address</th>\n",
       "      <th>visit</th>\n",
       "    </tr>\n",
       "  </thead>\n",
       "  <tbody>\n",
       "    <tr>\n",
       "      <th>0</th>\n",
       "      <td>1</td>\n",
       "      <td>Sonny</td>\n",
       "      <td>Dahl</td>\n",
       "      <td>sdahl0@mysql.com</td>\n",
       "      <td>Male</td>\n",
       "      <td>135.36.96.183</td>\n",
       "      <td>1225.0</td>\n",
       "    </tr>\n",
       "    <tr>\n",
       "      <th>1</th>\n",
       "      <td>2</td>\n",
       "      <td>NaN</td>\n",
       "      <td>NaN</td>\n",
       "      <td>dhoovart1@hud.gov</td>\n",
       "      <td>NaN</td>\n",
       "      <td>237.165.194.143</td>\n",
       "      <td>919.0</td>\n",
       "    </tr>\n",
       "    <tr>\n",
       "      <th>2</th>\n",
       "      <td>3</td>\n",
       "      <td>Gar</td>\n",
       "      <td>Armal</td>\n",
       "      <td>garmal2@technorati.com</td>\n",
       "      <td>NaN</td>\n",
       "      <td>166.43.137.224</td>\n",
       "      <td>271.0</td>\n",
       "    </tr>\n",
       "    <tr>\n",
       "      <th>3</th>\n",
       "      <td>4</td>\n",
       "      <td>Chiarra</td>\n",
       "      <td>Nulty</td>\n",
       "      <td>cnulty3@newyorker.com</td>\n",
       "      <td>NaN</td>\n",
       "      <td>139.98.137.108</td>\n",
       "      <td>1002.0</td>\n",
       "    </tr>\n",
       "    <tr>\n",
       "      <th>4</th>\n",
       "      <td>5</td>\n",
       "      <td>NaN</td>\n",
       "      <td>NaN</td>\n",
       "      <td>sleaver4@elegantthemes.com</td>\n",
       "      <td>NaN</td>\n",
       "      <td>46.117.117.27</td>\n",
       "      <td>2434.0</td>\n",
       "    </tr>\n",
       "  </tbody>\n",
       "</table>\n",
       "</div>"
      ],
      "text/plain": [
       "   id first_name last_name                       email gender  \\\n",
       "0   1      Sonny      Dahl            sdahl0@mysql.com   Male   \n",
       "1   2        NaN       NaN           dhoovart1@hud.gov    NaN   \n",
       "2   3        Gar     Armal      garmal2@technorati.com    NaN   \n",
       "3   4    Chiarra     Nulty       cnulty3@newyorker.com    NaN   \n",
       "4   5        NaN       NaN  sleaver4@elegantthemes.com    NaN   \n",
       "\n",
       "        ip_address   visit  \n",
       "0    135.36.96.183  1225.0  \n",
       "1  237.165.194.143   919.0  \n",
       "2   166.43.137.224   271.0  \n",
       "3   139.98.137.108  1002.0  \n",
       "4    46.117.117.27  2434.0  "
      ]
     },
     "execution_count": 75,
     "metadata": {},
     "output_type": "execute_result"
    }
   ],
   "source": [
    "# Read the visit_data.csv file\n",
    "df = pd.read_csv(\"visit_data.csv\")\n",
    "df.head()"
   ]
  },
  {
   "cell_type": "code",
   "execution_count": 76,
   "id": "94dadc44",
   "metadata": {},
   "outputs": [
    {
     "name": "stdout",
     "output_type": "stream",
     "text": [
      "First name is duplictaed - True\n",
      "Last name is duplictaed - True\n",
      "Email is duplictaed - False\n"
     ]
    }
   ],
   "source": [
    "# Check if any essential column contain duplicates\n",
    "print(\"First name is duplictaed - {}\".format(any(df.first_name.duplicated())))\n",
    "print(\"Last name is duplictaed - {}\".format(any(df.last_name.duplicated())))\n",
    "print(\"Email is duplictaed - {}\".format(any(df.email.duplicated())))"
   ]
  },
  {
   "cell_type": "code",
   "execution_count": 77,
   "id": "e18d6c9b",
   "metadata": {},
   "outputs": [
    {
     "name": "stdout",
     "output_type": "stream",
     "text": [
      "The column Email contains NaN - False \n",
      "The column IP Address contains NaN - False \n",
      "The column Visit contains NaN - True \n"
     ]
    }
   ],
   "source": [
    "# Check if any essential column contain NaN\n",
    "print(\"The column Email contains NaN - %r \" % df.email.isnull().values.any())\n",
    "print(\"The column IP Address contains NaN - %s \" % df.ip_address.isnull().values.any())\n",
    "print(\"The column Visit contains NaN - %s \" % df.visit.isnull().values.any())"
   ]
  },
  {
   "cell_type": "code",
   "execution_count": 78,
   "id": "19327b94",
   "metadata": {},
   "outputs": [
    {
     "name": "stdout",
     "output_type": "stream",
     "text": [
      "1000\n"
     ]
    }
   ],
   "source": [
    "#Before outlier elemination size\n",
    "df.shape\n",
    "earlier_size = df.shape[0]\n",
    "print(earlier_size)"
   ]
  },
  {
   "cell_type": "code",
   "execution_count": 79,
   "id": "2f5affb9",
   "metadata": {},
   "outputs": [
    {
     "data": {
      "text/plain": [
       "(974, 7)"
      ]
     },
     "execution_count": 79,
     "metadata": {},
     "output_type": "execute_result"
    }
   ],
   "source": [
    "import numpy as np\n",
    "df = df[np.isfinite(df['visit'])] \n",
    "#After outlier elemination size\n",
    "df.shape"
   ]
  },
  {
   "cell_type": "code",
   "execution_count": 81,
   "id": "b929c591",
   "metadata": {},
   "outputs": [
    {
     "name": "stdout",
     "output_type": "stream",
     "text": [
      "Size Difference : 26\n"
     ]
    }
   ],
   "source": [
    "print(\"Size Difference : {}\".format(earlier_size - df.shape[0]))"
   ]
  },
  {
   "cell_type": "code",
   "execution_count": 82,
   "id": "c1163934",
   "metadata": {},
   "outputs": [
    {
     "data": {
      "text/plain": [
       "{'whiskers': [<matplotlib.lines.Line2D at 0x155ca657400>,\n",
       "  <matplotlib.lines.Line2D at 0x155ca6576d0>],\n",
       " 'caps': [<matplotlib.lines.Line2D at 0x155ca6579a0>,\n",
       "  <matplotlib.lines.Line2D at 0x155ca657c70>],\n",
       " 'boxes': [<matplotlib.lines.Line2D at 0x155ca657130>],\n",
       " 'medians': [<matplotlib.lines.Line2D at 0x155ca657f40>],\n",
       " 'fliers': [<matplotlib.lines.Line2D at 0x155ca644250>],\n",
       " 'means': []}"
      ]
     },
     "execution_count": 82,
     "metadata": {},
     "output_type": "execute_result"
    },
    {
     "data": {
      "image/png": "[encoded data removed]",
      "text/plain": [
       "<Figure size 640x480 with 1 Axes>"
      ]
     },
     "metadata": {},
     "output_type": "display_data"
    }
   ],
   "source": [
    "#Creating box-plot for outliers\n",
    "import matplotlib.pyplot as plt\n",
    "%matplotlib inline\n",
    "plt.boxplot(df.visit, notch=True)"
   ]
  },
  {
   "cell_type": "code",
   "execution_count": 83,
   "id": "79bcd27a",
   "metadata": {},
   "outputs": [],
   "source": [
    "#from the above box plot, we can say most of the data is concentrated between 1200 and 2200 approx, \n",
    "#lets define above 2500 and below 200 as outliers\n",
    "df1 = df[(df['visit'] <= 2500) & (df['visit'] >= 200)]  # Notice the powerful & operator"
   ]
  },
  {
   "cell_type": "code",
   "execution_count": 84,
   "id": "37f9422a",
   "metadata": {},
   "outputs": [
    {
     "data": {
      "text/plain": [
       "{'whiskers': [<matplotlib.lines.Line2D at 0x155cbdbfc40>,\n",
       "  <matplotlib.lines.Line2D at 0x155cbdbff10>],\n",
       " 'caps': [<matplotlib.lines.Line2D at 0x155cbdad220>,\n",
       "  <matplotlib.lines.Line2D at 0x155cbdad4f0>],\n",
       " 'boxes': [<matplotlib.lines.Line2D at 0x155cbdbf970>],\n",
       " 'medians': [<matplotlib.lines.Line2D at 0x155cbdad7c0>],\n",
       " 'fliers': [<matplotlib.lines.Line2D at 0x155cbdada30>],\n",
       " 'means': []}"
      ]
     },
     "execution_count": 84,
     "metadata": {},
     "output_type": "execute_result"
    },
    {
     "data": {
      "image/png": "[encoded data removed]",
      "text/plain": [
       "<Figure size 640x480 with 1 Axes>"
      ]
     },
     "metadata": {},
     "output_type": "display_data"
    }
   ],
   "source": [
    "#lets plot the boxplot again after eleminating outlier\n",
    "plt.boxplot(df1.visit, notch=True)"
   ]
  },
  {
   "cell_type": "markdown",
   "id": "025250ed",
   "metadata": {},
   "source": [
    "3. Insert data into a SQL Lite database – create a table with the following data below that you will create yourself (Hint on how to create the SQL: Python for Data Analysis 2nd edition page 191, Python for Data Analysis 3rd Edition: Page 199):\n",
    "a. Name, Address, City, State, Zip, Phone Number\n",
    "b. Add at least 10 rows of data and submit your code with a query generating your results."
   ]
  },
  {
   "cell_type": "code",
   "execution_count": 85,
   "id": "2692e533",
   "metadata": {},
   "outputs": [],
   "source": [
    "import sqlite3"
   ]
  },
  {
   "cell_type": "code",
   "execution_count": 86,
   "id": "429802ed",
   "metadata": {},
   "outputs": [],
   "source": [
    "query = \"\"\"\n",
    "CREATE TABLE customer\n",
    "(\n",
    "Name VARCHAR(50), Address VARCHAR(100), City VARCHAR(20), State VARCHAR(2), Zip INTEGER, Phone VARCHAR(12)\n",
    ");\n",
    "\"\"\""
   ]
  },
  {
   "cell_type": "code",
   "execution_count": 87,
   "id": "b8ad9fbd",
   "metadata": {},
   "outputs": [
    {
     "data": {
      "text/plain": [
       "<sqlite3.Cursor at 0x155cbd9cdc0>"
      ]
     },
     "execution_count": 87,
     "metadata": {},
     "output_type": "execute_result"
    }
   ],
   "source": [
    "con =  sqlite3.connect('mydata.sqlite')\n",
    "con.execute(query)"
   ]
  },
  {
   "cell_type": "code",
   "execution_count": 88,
   "id": "d91dafc1",
   "metadata": {},
   "outputs": [],
   "source": [
    "con.commit()"
   ]
  },
  {
   "cell_type": "code",
   "execution_count": 92,
   "id": "a139cf12",
   "metadata": {},
   "outputs": [],
   "source": [
    "data = [('Xia','334 prince road', 'eiler', 'VA', 19923, '333-444-5555'),\n",
    "         ('Arf','665 London road', 'yeatt', 'VA', 19623, '222-444-5555'),\n",
    "         ('Erec','4773 Town road', 'vaert', 'VA', 15923, '111-444-5555'),\n",
    "       ('Yeer','883 Car road', 'affee', 'VA', 15923, '112-444-5555'),\n",
    "       ('Beeu','334 King road', 'faerc', 'VA', 16923, '554-444-5555'),\n",
    "       ('Nerer','334 Ring road', 'eererc', 'NA', 19923, '667-444-5555'),\n",
    "       ('Riine','222 Carolina road', 'arrev', 'VA', 14923, '887-444-5555'),\n",
    "       ('Uuuer','666 Ruii road', 'rrree', 'VA', 12223, '776-444-5555'),\n",
    "         ('Mmmer','773 Kaille road', 'eiler', 'TX', 33567, '553-444-5555'),\n",
    "         ('Iiier','772 diseddr road', 'rrrew', 'VA', 77754, '335-444-5555'),\n",
    "         ('Xieeer','779 kkejr road', 'ccerr', 'SC', 32356, '667-444-5555'),\n",
    "         ('Nuuer','333 uutller road', 'eiler', 'VA', 67755, '777-444-5555'),\n",
    "         ('Tuueer','111 glass road', 'wrwrw', 'DE', 44321, '755-444-5555')]"
   ]
  },
  {
   "cell_type": "code",
   "execution_count": 93,
   "id": "fdc2a542",
   "metadata": {},
   "outputs": [],
   "source": [
    "stmt = \"INSERT INTO customer VALUES(?,?,?,?,?,?)\""
   ]
  },
  {
   "cell_type": "code",
   "execution_count": 95,
   "id": "a8157b00",
   "metadata": {},
   "outputs": [
    {
     "data": {
      "text/plain": [
       "<sqlite3.Cursor at 0x155cbced030>"
      ]
     },
     "execution_count": 95,
     "metadata": {},
     "output_type": "execute_result"
    }
   ],
   "source": [
    "con.executemany(stmt,data)"
   ]
  },
  {
   "cell_type": "code",
   "execution_count": 96,
   "id": "5a4d8e2f",
   "metadata": {},
   "outputs": [],
   "source": [
    "con.commit()"
   ]
  },
  {
   "cell_type": "code",
   "execution_count": 97,
   "id": "8136296c",
   "metadata": {},
   "outputs": [
    {
     "data": {
      "text/plain": [
       "[('Xia', '334 prince road', 'eiler', 'VA', 19923, '333-444-5555'),\n",
       " ('Arf', '665 London road', 'yeatt', 'VA', 19623, '222-444-5555'),\n",
       " ('Erec', '4773 Town road', 'vaert', 'VA', 15923, '111-444-5555'),\n",
       " ('Yeer', '883 Car road', 'affee', 'VA', 15923, '112-444-5555'),\n",
       " ('Beeu', '334 King road', 'faerc', 'VA', 16923, '554-444-5555'),\n",
       " ('Nerer', '334 Ring road', 'eererc', 'NA', 19923, '667-444-5555'),\n",
       " ('Riine', '222 Carolina road', 'arrev', 'VA', 14923, '887-444-5555'),\n",
       " ('Uuuer', '666 Ruii road', 'rrree', 'VA', 12223, '776-444-5555'),\n",
       " ('Mmmer', '773 Kaille road', 'eiler', 'TX', 33567, '553-444-5555'),\n",
       " ('Iiier', '772 diseddr road', 'rrrew', 'VA', 77754, '335-444-5555'),\n",
       " ('Xieeer', '779 kkejr road', 'ccerr', 'SC', 32356, '667-444-5555'),\n",
       " ('Nuuer', '333 uutller road', 'eiler', 'VA', 67755, '777-444-5555'),\n",
       " ('Tuueer', '111 glass road', 'wrwrw', 'DE', 44321, '755-444-5555')]"
      ]
     },
     "execution_count": 97,
     "metadata": {},
     "output_type": "execute_result"
    }
   ],
   "source": [
    "cursor =  con.execute('select * from customer')\n",
    "rows = cursor.fetchall()\n",
    "rows"
   ]
  },
  {
   "cell_type": "code",
   "execution_count": null,
   "id": "94501408",
   "metadata": {},
   "outputs": [],
   "source": []
  }
 ],
 "metadata": {
  "kernelspec": {
   "display_name": "Python 3 (ipykernel)",
   "language": "python",
   "name": "python3"
  },
  "language_info": {
   "codemirror_mode": {
    "name": "ipython",
    "version": 3
   },
   "file_extension": ".py",
   "mimetype": "text/x-python",
   "name": "python",
   "nbconvert_exporter": "python",
   "pygments_lexer": "ipython3",
   "version": "3.9.13"
  }
 },
 "nbformat": 4,
 "nbformat_minor": 5
}
