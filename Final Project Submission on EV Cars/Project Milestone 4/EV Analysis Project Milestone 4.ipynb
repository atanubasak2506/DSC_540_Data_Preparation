{
 "cells": [
  {
   "cell_type": "markdown",
   "id": "430e4265",
   "metadata": {},
   "source": [
    "# Electric Vehicle Data Analysis and Visualization Milestone 4"
   ]
  },
  {
   "cell_type": "markdown",
   "id": "4f11196c",
   "metadata": {},
   "source": [
    "First source of data, that I have collected, is from the below website which shows the Battery Electric Vehicles (BEVs) and Plug-in Hybrid Electric Vehicles (PHEVs) that are currently registered through Washington State Department of Licensing (DOL).\n",
    "\n",
    "https://data.wa.gov/Transportation/Electric-Vehicle-Population-Data/f6w7-q2d2\n",
    "\n",
    "https://catalog.data.gov/dataset/electric-vehicle-population-data/resource/fa51be35-691f-45d2-9f3e-535877965e69?inner_span=True"
   ]
  },
  {
   "cell_type": "code",
   "execution_count": 1,
   "id": "19c2d331",
   "metadata": {},
   "outputs": [
    {
     "data": {
      "text/html": [
       "<div>\n",
       "<style scoped>\n",
       "    .dataframe tbody tr th:only-of-type {\n",
       "        vertical-align: middle;\n",
       "    }\n",
       "\n",
       "    .dataframe tbody tr th {\n",
       "        vertical-align: top;\n",
       "    }\n",
       "\n",
       "    .dataframe thead th {\n",
       "        text-align: right;\n",
       "    }\n",
       "</style>\n",
       "<table border=\"1\" class=\"dataframe\">\n",
       "  <thead>\n",
       "    <tr style=\"text-align: right;\">\n",
       "      <th></th>\n",
       "      <th>Unnamed: 0</th>\n",
       "      <th>VIN (1-10)</th>\n",
       "      <th>County</th>\n",
       "      <th>City</th>\n",
       "      <th>State</th>\n",
       "      <th>Postal Code</th>\n",
       "      <th>Model Year</th>\n",
       "      <th>Make</th>\n",
       "      <th>Model</th>\n",
       "      <th>Electric Range</th>\n",
       "      <th>Legislative District</th>\n",
       "      <th>DOL Vehicle ID</th>\n",
       "      <th>Vehicle Location</th>\n",
       "      <th>Electric Utility</th>\n",
       "      <th>2020 Census Tract</th>\n",
       "      <th>Vehicle Type</th>\n",
       "      <th>CAFV Eligibility</th>\n",
       "      <th>Electric Range Category</th>\n",
       "    </tr>\n",
       "  </thead>\n",
       "  <tbody>\n",
       "    <tr>\n",
       "      <th>0</th>\n",
       "      <td>2</td>\n",
       "      <td>JN1AZ0CP8B</td>\n",
       "      <td>Yakima</td>\n",
       "      <td>Yakima</td>\n",
       "      <td>WA</td>\n",
       "      <td>98901</td>\n",
       "      <td>2011</td>\n",
       "      <td>NISSAN</td>\n",
       "      <td>LEAF</td>\n",
       "      <td>73</td>\n",
       "      <td>15.0</td>\n",
       "      <td>218972519</td>\n",
       "      <td>POINT (-120.50721 46.60448)</td>\n",
       "      <td>PACIFICORP</td>\n",
       "      <td>53077001602</td>\n",
       "      <td>BEV</td>\n",
       "      <td>Eligible</td>\n",
       "      <td>Low</td>\n",
       "    </tr>\n",
       "    <tr>\n",
       "      <th>1</th>\n",
       "      <td>3</td>\n",
       "      <td>1G1FW6S08H</td>\n",
       "      <td>Skagit</td>\n",
       "      <td>Concrete</td>\n",
       "      <td>WA</td>\n",
       "      <td>98237</td>\n",
       "      <td>2017</td>\n",
       "      <td>CHEVROLET</td>\n",
       "      <td>BOLT EV</td>\n",
       "      <td>238</td>\n",
       "      <td>39.0</td>\n",
       "      <td>186750406</td>\n",
       "      <td>POINT (-121.7515 48.53892)</td>\n",
       "      <td>PUGET SOUND ENERGY INC</td>\n",
       "      <td>53057951101</td>\n",
       "      <td>BEV</td>\n",
       "      <td>Eligible</td>\n",
       "      <td>Mid</td>\n",
       "    </tr>\n",
       "    <tr>\n",
       "      <th>2</th>\n",
       "      <td>4</td>\n",
       "      <td>3FA6P0SU1K</td>\n",
       "      <td>Snohomish</td>\n",
       "      <td>Everett</td>\n",
       "      <td>WA</td>\n",
       "      <td>98201</td>\n",
       "      <td>2019</td>\n",
       "      <td>FORD</td>\n",
       "      <td>FUSION</td>\n",
       "      <td>26</td>\n",
       "      <td>38.0</td>\n",
       "      <td>2006714</td>\n",
       "      <td>POINT (-122.20596 47.97659)</td>\n",
       "      <td>PUGET SOUND ENERGY INC</td>\n",
       "      <td>53061041500</td>\n",
       "      <td>PHEV</td>\n",
       "      <td>Not Eligible</td>\n",
       "      <td>Low</td>\n",
       "    </tr>\n",
       "    <tr>\n",
       "      <th>3</th>\n",
       "      <td>5</td>\n",
       "      <td>5YJ3E1EB5J</td>\n",
       "      <td>Snohomish</td>\n",
       "      <td>Bothell</td>\n",
       "      <td>WA</td>\n",
       "      <td>98021</td>\n",
       "      <td>2018</td>\n",
       "      <td>TESLA</td>\n",
       "      <td>MODEL 3</td>\n",
       "      <td>215</td>\n",
       "      <td>1.0</td>\n",
       "      <td>475635324</td>\n",
       "      <td>POINT (-122.18384 47.8031)</td>\n",
       "      <td>PUGET SOUND ENERGY INC</td>\n",
       "      <td>53061051916</td>\n",
       "      <td>BEV</td>\n",
       "      <td>Eligible</td>\n",
       "      <td>Mid</td>\n",
       "    </tr>\n",
       "    <tr>\n",
       "      <th>4</th>\n",
       "      <td>6</td>\n",
       "      <td>1N4AZ0CP4D</td>\n",
       "      <td>Snohomish</td>\n",
       "      <td>Everett</td>\n",
       "      <td>WA</td>\n",
       "      <td>98203</td>\n",
       "      <td>2013</td>\n",
       "      <td>NISSAN</td>\n",
       "      <td>LEAF</td>\n",
       "      <td>75</td>\n",
       "      <td>38.0</td>\n",
       "      <td>253546023</td>\n",
       "      <td>POINT (-122.23019 47.94949)</td>\n",
       "      <td>PUGET SOUND ENERGY INC</td>\n",
       "      <td>53061040900</td>\n",
       "      <td>BEV</td>\n",
       "      <td>Eligible</td>\n",
       "      <td>Low</td>\n",
       "    </tr>\n",
       "  </tbody>\n",
       "</table>\n",
       "</div>"
      ],
      "text/plain": [
       "   Unnamed: 0  VIN (1-10)     County      City State  Postal Code  Model Year  \\\n",
       "0           2  JN1AZ0CP8B     Yakima    Yakima    WA        98901        2011   \n",
       "1           3  1G1FW6S08H     Skagit  Concrete    WA        98237        2017   \n",
       "2           4  3FA6P0SU1K  Snohomish   Everett    WA        98201        2019   \n",
       "3           5  5YJ3E1EB5J  Snohomish   Bothell    WA        98021        2018   \n",
       "4           6  1N4AZ0CP4D  Snohomish   Everett    WA        98203        2013   \n",
       "\n",
       "        Make    Model  Electric Range  Legislative District  DOL Vehicle ID  \\\n",
       "0     NISSAN     LEAF              73                  15.0       218972519   \n",
       "1  CHEVROLET  BOLT EV             238                  39.0       186750406   \n",
       "2       FORD   FUSION              26                  38.0         2006714   \n",
       "3      TESLA  MODEL 3             215                   1.0       475635324   \n",
       "4     NISSAN     LEAF              75                  38.0       253546023   \n",
       "\n",
       "              Vehicle Location        Electric Utility  2020 Census Tract  \\\n",
       "0  POINT (-120.50721 46.60448)              PACIFICORP        53077001602   \n",
       "1   POINT (-121.7515 48.53892)  PUGET SOUND ENERGY INC        53057951101   \n",
       "2  POINT (-122.20596 47.97659)  PUGET SOUND ENERGY INC        53061041500   \n",
       "3   POINT (-122.18384 47.8031)  PUGET SOUND ENERGY INC        53061051916   \n",
       "4  POINT (-122.23019 47.94949)  PUGET SOUND ENERGY INC        53061040900   \n",
       "\n",
       "  Vehicle Type CAFV Eligibility Electric Range Category  \n",
       "0          BEV         Eligible                     Low  \n",
       "1          BEV         Eligible                     Mid  \n",
       "2         PHEV     Not Eligible                     Low  \n",
       "3          BEV         Eligible                     Mid  \n",
       "4          BEV         Eligible                     Low  "
      ]
     },
     "execution_count": 1,
     "metadata": {},
     "output_type": "execute_result"
    }
   ],
   "source": [
    "# reading \n",
    "import pandas as pd\n",
    "df = pd.read_csv(\"ms1_output.csv\")\n",
    "df.head(5)"
   ]
  },
  {
   "cell_type": "code",
   "execution_count": 2,
   "id": "919409e5",
   "metadata": {},
   "outputs": [
    {
     "data": {
      "text/plain": [
       "(112152, 18)"
      ]
     },
     "execution_count": 2,
     "metadata": {},
     "output_type": "execute_result"
    }
   ],
   "source": [
    "df.shape"
   ]
  },
  {
   "cell_type": "code",
   "execution_count": 3,
   "id": "4b2ac619",
   "metadata": {},
   "outputs": [
    {
     "data": {
      "text/plain": [
       "Unnamed: 0                   int64\n",
       "VIN (1-10)                  object\n",
       "County                      object\n",
       "City                        object\n",
       "State                       object\n",
       "Postal Code                  int64\n",
       "Model Year                   int64\n",
       "Make                        object\n",
       "Model                       object\n",
       "Electric Range               int64\n",
       "Legislative District       float64\n",
       "DOL Vehicle ID               int64\n",
       "Vehicle Location            object\n",
       "Electric Utility            object\n",
       "2020 Census Tract            int64\n",
       "Vehicle Type                object\n",
       "CAFV Eligibility            object\n",
       "Electric Range Category     object\n",
       "dtype: object"
      ]
     },
     "execution_count": 3,
     "metadata": {},
     "output_type": "execute_result"
    }
   ],
   "source": [
    "df.dtypes"
   ]
  },
  {
   "cell_type": "code",
   "execution_count": 4,
   "id": "6e4072f0",
   "metadata": {},
   "outputs": [
    {
     "data": {
      "text/plain": [
       "Unnamed: 0                   int64\n",
       "VIN                         object\n",
       "County                      object\n",
       "City                        object\n",
       "State                       object\n",
       "Postal_Code                  int64\n",
       "Model_Year                   int64\n",
       "Make                        object\n",
       "Model                       object\n",
       "Electric_Range               int64\n",
       "Legislative_District       float64\n",
       "DOL_Vehicle_ID               int64\n",
       "Vehicle_Location            object\n",
       "Electric_Utility            object\n",
       "2020_Census_Tract            int64\n",
       "Vehicle_Type                object\n",
       "CAFV_Eligibility            object\n",
       "Electric_Range_Category     object\n",
       "dtype: object"
      ]
     },
     "execution_count": 4,
     "metadata": {},
     "output_type": "execute_result"
    }
   ],
   "source": [
    "df.rename(columns = {'VIN (1-10)':'VIN', 'Postal Code':'Postal_Code','Model Year':'Model_Year', 'Electric Range':'Electric_Range', \n",
    "                     'Legislative District' : 'Legislative_District', \n",
    "                     'DOL Vehicle ID':'DOL_Vehicle_ID', \n",
    "                     'Vehicle Location':'Vehicle_Location',\n",
    "                     'Electric Utility':'Electric_Utility',\n",
    "                     '2020 Census Tract':'2020_Census_Tract',\n",
    "                     'Vehicle Type':'Vehicle_Type',\n",
    "                     'CAFV Eligibility':'CAFV_Eligibility',\n",
    "                     'Electric Range Category':'Electric_Range_Category'}, inplace = True)\n",
    "df.dtypes"
   ]
  },
  {
   "cell_type": "code",
   "execution_count": 5,
   "id": "2f90c3b5",
   "metadata": {},
   "outputs": [],
   "source": [
    "#dropping the state field as all records are from WA state, some of the other fields are also quite ot importent while doing analsys on EV data\n",
    "df = df.drop(['VIN','Unnamed: 0','DOL_Vehicle_ID','2020_Census_Tract'], axis=1)"
   ]
  },
  {
   "cell_type": "code",
   "execution_count": 6,
   "id": "6f853af7",
   "metadata": {},
   "outputs": [],
   "source": [
    "#There are several records where electric range is showing as 0, for battery operated vehicle. which is not correct, so deleting those records.\n",
    "df = df[df.Electric_Range != 0]"
   ]
  },
  {
   "cell_type": "markdown",
   "id": "808c3ad6",
   "metadata": {},
   "source": [
    "# Read data from API to create dummy user data, then will do fuzzy matching to append the information to EV data to create dummy users"
   ]
  },
  {
   "cell_type": "code",
   "execution_count": 8,
   "id": "926c4c43",
   "metadata": {},
   "outputs": [],
   "source": [
    "import json\n",
    "from urllib.request import urlopen\n",
    "\n",
    "# Show 2 random users\n",
    "data = urlopen(\"https://randomuser.me/api?results=5000\").read()\n",
    "users = json.loads(data)[\"results\"]\n"
   ]
  },
  {
   "cell_type": "code",
   "execution_count": 9,
   "id": "07a26d1f",
   "metadata": {},
   "outputs": [
    {
     "data": {
      "text/plain": [
       "(73055, 14)"
      ]
     },
     "execution_count": 9,
     "metadata": {},
     "output_type": "execute_result"
    }
   ],
   "source": [
    "df.shape"
   ]
  },
  {
   "cell_type": "code",
   "execution_count": 11,
   "id": "2cf9c5b1",
   "metadata": {},
   "outputs": [
    {
     "data": {
      "text/plain": [
       "dict"
      ]
     },
     "execution_count": 11,
     "metadata": {},
     "output_type": "execute_result"
    }
   ],
   "source": [
    "type(users[0])"
   ]
  },
  {
   "cell_type": "code",
   "execution_count": 12,
   "id": "8fcb744c",
   "metadata": {},
   "outputs": [],
   "source": [
    "users_df = pd.json_normalize(users)"
   ]
  },
  {
   "cell_type": "code",
   "execution_count": 13,
   "id": "4e2835d7",
   "metadata": {},
   "outputs": [
    {
     "data": {
      "text/html": [
       "<div>\n",
       "<style scoped>\n",
       "    .dataframe tbody tr th:only-of-type {\n",
       "        vertical-align: middle;\n",
       "    }\n",
       "\n",
       "    .dataframe tbody tr th {\n",
       "        vertical-align: top;\n",
       "    }\n",
       "\n",
       "    .dataframe thead th {\n",
       "        text-align: right;\n",
       "    }\n",
       "</style>\n",
       "<table border=\"1\" class=\"dataframe\">\n",
       "  <thead>\n",
       "    <tr style=\"text-align: right;\">\n",
       "      <th></th>\n",
       "      <th>gender</th>\n",
       "      <th>email</th>\n",
       "      <th>phone</th>\n",
       "      <th>cell</th>\n",
       "      <th>nat</th>\n",
       "      <th>name.title</th>\n",
       "      <th>name.first</th>\n",
       "      <th>name.last</th>\n",
       "      <th>location.street.number</th>\n",
       "      <th>location.street.name</th>\n",
       "      <th>...</th>\n",
       "      <th>login.sha256</th>\n",
       "      <th>dob.date</th>\n",
       "      <th>dob.age</th>\n",
       "      <th>registered.date</th>\n",
       "      <th>registered.age</th>\n",
       "      <th>id.name</th>\n",
       "      <th>id.value</th>\n",
       "      <th>picture.large</th>\n",
       "      <th>picture.medium</th>\n",
       "      <th>picture.thumbnail</th>\n",
       "    </tr>\n",
       "  </thead>\n",
       "  <tbody>\n",
       "    <tr>\n",
       "      <th>0</th>\n",
       "      <td>female</td>\n",
       "      <td>aubrey.harcourt@example.com</td>\n",
       "      <td>Z68 V53-0891</td>\n",
       "      <td>K34 L29-8819</td>\n",
       "      <td>CA</td>\n",
       "      <td>Mrs</td>\n",
       "      <td>Aubrey</td>\n",
       "      <td>Harcourt</td>\n",
       "      <td>266</td>\n",
       "      <td>Pierre Ave</td>\n",
       "      <td>...</td>\n",
       "      <td>619cd556e69929087020e4d33c9a6dec2cfde68055bc00...</td>\n",
       "      <td>1965-10-03T20:39:33.681Z</td>\n",
       "      <td>57</td>\n",
       "      <td>2010-03-17T03:55:53.540Z</td>\n",
       "      <td>12</td>\n",
       "      <td>SIN</td>\n",
       "      <td>579234485</td>\n",
       "      <td>https://randomuser.me/api/portraits/women/69.jpg</td>\n",
       "      <td>https://randomuser.me/api/portraits/med/women/...</td>\n",
       "      <td>https://randomuser.me/api/portraits/thumb/wome...</td>\n",
       "    </tr>\n",
       "    <tr>\n",
       "      <th>1</th>\n",
       "      <td>female</td>\n",
       "      <td>viivi.hanninen@example.com</td>\n",
       "      <td>02-838-007</td>\n",
       "      <td>040-738-49-41</td>\n",
       "      <td>FI</td>\n",
       "      <td>Ms</td>\n",
       "      <td>Viivi</td>\n",
       "      <td>Hanninen</td>\n",
       "      <td>5467</td>\n",
       "      <td>Esplanadi</td>\n",
       "      <td>...</td>\n",
       "      <td>fe0c2d145719aa85111f136259ee457e29dfba4b78b585...</td>\n",
       "      <td>1985-02-02T17:10:04.866Z</td>\n",
       "      <td>38</td>\n",
       "      <td>2010-04-08T10:09:33.954Z</td>\n",
       "      <td>12</td>\n",
       "      <td>HETU</td>\n",
       "      <td>NaNNA968undefined</td>\n",
       "      <td>https://randomuser.me/api/portraits/women/61.jpg</td>\n",
       "      <td>https://randomuser.me/api/portraits/med/women/...</td>\n",
       "      <td>https://randomuser.me/api/portraits/thumb/wome...</td>\n",
       "    </tr>\n",
       "    <tr>\n",
       "      <th>2</th>\n",
       "      <td>male</td>\n",
       "      <td>eemil.nevala@example.com</td>\n",
       "      <td>04-606-689</td>\n",
       "      <td>042-000-72-40</td>\n",
       "      <td>FI</td>\n",
       "      <td>Mr</td>\n",
       "      <td>Eemil</td>\n",
       "      <td>Nevala</td>\n",
       "      <td>3158</td>\n",
       "      <td>Tahmelantie</td>\n",
       "      <td>...</td>\n",
       "      <td>ebf592bf1a1c79105902e22e7d3d56e1a356f0868900ee...</td>\n",
       "      <td>1963-12-14T15:30:30.917Z</td>\n",
       "      <td>59</td>\n",
       "      <td>2010-11-23T05:02:36.483Z</td>\n",
       "      <td>12</td>\n",
       "      <td>HETU</td>\n",
       "      <td>NaNNA863undefined</td>\n",
       "      <td>https://randomuser.me/api/portraits/men/97.jpg</td>\n",
       "      <td>https://randomuser.me/api/portraits/med/men/97...</td>\n",
       "      <td>https://randomuser.me/api/portraits/thumb/men/...</td>\n",
       "    </tr>\n",
       "    <tr>\n",
       "      <th>3</th>\n",
       "      <td>male</td>\n",
       "      <td>ludwig.wagensveld@example.com</td>\n",
       "      <td>(026) 2441080</td>\n",
       "      <td>(06) 98808807</td>\n",
       "      <td>NL</td>\n",
       "      <td>Mr</td>\n",
       "      <td>Ludwig</td>\n",
       "      <td>Wagensveld</td>\n",
       "      <td>9222</td>\n",
       "      <td>Jekerdal</td>\n",
       "      <td>...</td>\n",
       "      <td>b791b89ea2093e64136eb6f11a4041d75ceb0db2823f5e...</td>\n",
       "      <td>1987-12-21T18:43:00.479Z</td>\n",
       "      <td>35</td>\n",
       "      <td>2011-07-03T18:05:50.242Z</td>\n",
       "      <td>11</td>\n",
       "      <td>BSN</td>\n",
       "      <td>27738348</td>\n",
       "      <td>https://randomuser.me/api/portraits/men/47.jpg</td>\n",
       "      <td>https://randomuser.me/api/portraits/med/men/47...</td>\n",
       "      <td>https://randomuser.me/api/portraits/thumb/men/...</td>\n",
       "    </tr>\n",
       "    <tr>\n",
       "      <th>4</th>\n",
       "      <td>male</td>\n",
       "      <td>jonas.mortensen@example.com</td>\n",
       "      <td>20540116</td>\n",
       "      <td>82853863</td>\n",
       "      <td>DK</td>\n",
       "      <td>Mr</td>\n",
       "      <td>Jonas</td>\n",
       "      <td>Mortensen</td>\n",
       "      <td>1948</td>\n",
       "      <td>Solbakkevej</td>\n",
       "      <td>...</td>\n",
       "      <td>ae8794a237072b38da685df088012e8e10c5bd9233009d...</td>\n",
       "      <td>1978-06-03T09:07:05.838Z</td>\n",
       "      <td>44</td>\n",
       "      <td>2012-11-20T01:32:59.501Z</td>\n",
       "      <td>10</td>\n",
       "      <td>CPR</td>\n",
       "      <td>030678-2141</td>\n",
       "      <td>https://randomuser.me/api/portraits/men/74.jpg</td>\n",
       "      <td>https://randomuser.me/api/portraits/med/men/74...</td>\n",
       "      <td>https://randomuser.me/api/portraits/thumb/men/...</td>\n",
       "    </tr>\n",
       "  </tbody>\n",
       "</table>\n",
       "<p>5 rows × 34 columns</p>\n",
       "</div>"
      ],
      "text/plain": [
       "   gender                          email          phone           cell nat  \\\n",
       "0  female    aubrey.harcourt@example.com   Z68 V53-0891   K34 L29-8819  CA   \n",
       "1  female     viivi.hanninen@example.com     02-838-007  040-738-49-41  FI   \n",
       "2    male       eemil.nevala@example.com     04-606-689  042-000-72-40  FI   \n",
       "3    male  ludwig.wagensveld@example.com  (026) 2441080  (06) 98808807  NL   \n",
       "4    male    jonas.mortensen@example.com       20540116       82853863  DK   \n",
       "\n",
       "  name.title name.first   name.last  location.street.number  \\\n",
       "0        Mrs     Aubrey    Harcourt                     266   \n",
       "1         Ms      Viivi    Hanninen                    5467   \n",
       "2         Mr      Eemil      Nevala                    3158   \n",
       "3         Mr     Ludwig  Wagensveld                    9222   \n",
       "4         Mr      Jonas   Mortensen                    1948   \n",
       "\n",
       "  location.street.name  ...  \\\n",
       "0           Pierre Ave  ...   \n",
       "1            Esplanadi  ...   \n",
       "2          Tahmelantie  ...   \n",
       "3             Jekerdal  ...   \n",
       "4          Solbakkevej  ...   \n",
       "\n",
       "                                        login.sha256  \\\n",
       "0  619cd556e69929087020e4d33c9a6dec2cfde68055bc00...   \n",
       "1  fe0c2d145719aa85111f136259ee457e29dfba4b78b585...   \n",
       "2  ebf592bf1a1c79105902e22e7d3d56e1a356f0868900ee...   \n",
       "3  b791b89ea2093e64136eb6f11a4041d75ceb0db2823f5e...   \n",
       "4  ae8794a237072b38da685df088012e8e10c5bd9233009d...   \n",
       "\n",
       "                   dob.date dob.age           registered.date registered.age  \\\n",
       "0  1965-10-03T20:39:33.681Z      57  2010-03-17T03:55:53.540Z             12   \n",
       "1  1985-02-02T17:10:04.866Z      38  2010-04-08T10:09:33.954Z             12   \n",
       "2  1963-12-14T15:30:30.917Z      59  2010-11-23T05:02:36.483Z             12   \n",
       "3  1987-12-21T18:43:00.479Z      35  2011-07-03T18:05:50.242Z             11   \n",
       "4  1978-06-03T09:07:05.838Z      44  2012-11-20T01:32:59.501Z             10   \n",
       "\n",
       "  id.name           id.value  \\\n",
       "0     SIN          579234485   \n",
       "1    HETU  NaNNA968undefined   \n",
       "2    HETU  NaNNA863undefined   \n",
       "3     BSN           27738348   \n",
       "4     CPR        030678-2141   \n",
       "\n",
       "                                      picture.large  \\\n",
       "0  https://randomuser.me/api/portraits/women/69.jpg   \n",
       "1  https://randomuser.me/api/portraits/women/61.jpg   \n",
       "2    https://randomuser.me/api/portraits/men/97.jpg   \n",
       "3    https://randomuser.me/api/portraits/men/47.jpg   \n",
       "4    https://randomuser.me/api/portraits/men/74.jpg   \n",
       "\n",
       "                                      picture.medium  \\\n",
       "0  https://randomuser.me/api/portraits/med/women/...   \n",
       "1  https://randomuser.me/api/portraits/med/women/...   \n",
       "2  https://randomuser.me/api/portraits/med/men/97...   \n",
       "3  https://randomuser.me/api/portraits/med/men/47...   \n",
       "4  https://randomuser.me/api/portraits/med/men/74...   \n",
       "\n",
       "                                   picture.thumbnail  \n",
       "0  https://randomuser.me/api/portraits/thumb/wome...  \n",
       "1  https://randomuser.me/api/portraits/thumb/wome...  \n",
       "2  https://randomuser.me/api/portraits/thumb/men/...  \n",
       "3  https://randomuser.me/api/portraits/thumb/men/...  \n",
       "4  https://randomuser.me/api/portraits/thumb/men/...  \n",
       "\n",
       "[5 rows x 34 columns]"
      ]
     },
     "execution_count": 13,
     "metadata": {},
     "output_type": "execute_result"
    }
   ],
   "source": [
    "users_df.head()"
   ]
  },
  {
   "cell_type": "code",
   "execution_count": 14,
   "id": "08cdd2ba",
   "metadata": {},
   "outputs": [
    {
     "data": {
      "text/plain": [
       "(5000, 34)"
      ]
     },
     "execution_count": 14,
     "metadata": {},
     "output_type": "execute_result"
    }
   ],
   "source": [
    "users_df.shape"
   ]
  },
  {
   "cell_type": "code",
   "execution_count": 15,
   "id": "e390472e",
   "metadata": {},
   "outputs": [],
   "source": [
    "users_df = users_df[['email','gender','dob.age']]"
   ]
  },
  {
   "cell_type": "code",
   "execution_count": 16,
   "id": "9bff9e52",
   "metadata": {},
   "outputs": [
    {
     "data": {
      "text/plain": [
       "(5000, 3)"
      ]
     },
     "execution_count": 16,
     "metadata": {},
     "output_type": "execute_result"
    }
   ],
   "source": [
    "users_df.shape"
   ]
  },
  {
   "cell_type": "code",
   "execution_count": 19,
   "id": "36e42388",
   "metadata": {},
   "outputs": [],
   "source": [
    "import random\n",
    "df['VID'] = pd.Series(\n",
    "    random.choices(list(users_df['email']), k=len(df)), \n",
    "    index=df.index)"
   ]
  },
  {
   "cell_type": "code",
   "execution_count": 20,
   "id": "27dac0ad",
   "metadata": {},
   "outputs": [
    {
     "data": {
      "text/plain": [
       "0"
      ]
     },
     "execution_count": 20,
     "metadata": {},
     "output_type": "execute_result"
    }
   ],
   "source": [
    "df['VID'].isna().sum()"
   ]
  },
  {
   "cell_type": "code",
   "execution_count": 21,
   "id": "7f0b9fa2",
   "metadata": {},
   "outputs": [
    {
     "data": {
      "text/plain": [
       "0"
      ]
     },
     "execution_count": 21,
     "metadata": {},
     "output_type": "execute_result"
    }
   ],
   "source": [
    "users_df['email'].isna().sum()"
   ]
  },
  {
   "cell_type": "markdown",
   "id": "da75cd56",
   "metadata": {},
   "source": [
    "# Step 1 : Conduct Fuzzy Matching"
   ]
  },
  {
   "cell_type": "code",
   "execution_count": 22,
   "id": "c13a2c1f",
   "metadata": {},
   "outputs": [],
   "source": [
    "import difflib \n",
    "result=pd.merge(df,users_df, left_on='VID', right_on='email', how='left')"
   ]
  },
  {
   "cell_type": "code",
   "execution_count": 23,
   "id": "db7b75df",
   "metadata": {},
   "outputs": [
    {
     "data": {
      "text/html": [
       "<div>\n",
       "<style scoped>\n",
       "    .dataframe tbody tr th:only-of-type {\n",
       "        vertical-align: middle;\n",
       "    }\n",
       "\n",
       "    .dataframe tbody tr th {\n",
       "        vertical-align: top;\n",
       "    }\n",
       "\n",
       "    .dataframe thead th {\n",
       "        text-align: right;\n",
       "    }\n",
       "</style>\n",
       "<table border=\"1\" class=\"dataframe\">\n",
       "  <thead>\n",
       "    <tr style=\"text-align: right;\">\n",
       "      <th></th>\n",
       "      <th>County</th>\n",
       "      <th>City</th>\n",
       "      <th>State</th>\n",
       "      <th>Postal_Code</th>\n",
       "      <th>Model_Year</th>\n",
       "      <th>Make</th>\n",
       "      <th>Model</th>\n",
       "      <th>Electric_Range</th>\n",
       "      <th>Legislative_District</th>\n",
       "      <th>Vehicle_Location</th>\n",
       "      <th>Electric_Utility</th>\n",
       "      <th>Vehicle_Type</th>\n",
       "      <th>CAFV_Eligibility</th>\n",
       "      <th>Electric_Range_Category</th>\n",
       "      <th>VID</th>\n",
       "      <th>email</th>\n",
       "      <th>gender</th>\n",
       "      <th>dob.age</th>\n",
       "    </tr>\n",
       "  </thead>\n",
       "  <tbody>\n",
       "    <tr>\n",
       "      <th>0</th>\n",
       "      <td>Yakima</td>\n",
       "      <td>Yakima</td>\n",
       "      <td>WA</td>\n",
       "      <td>98901</td>\n",
       "      <td>2011</td>\n",
       "      <td>NISSAN</td>\n",
       "      <td>LEAF</td>\n",
       "      <td>73</td>\n",
       "      <td>15.0</td>\n",
       "      <td>POINT (-120.50721 46.60448)</td>\n",
       "      <td>PACIFICORP</td>\n",
       "      <td>BEV</td>\n",
       "      <td>Eligible</td>\n",
       "      <td>Low</td>\n",
       "      <td>sofia.zavala@example.com</td>\n",
       "      <td>sofia.zavala@example.com</td>\n",
       "      <td>female</td>\n",
       "      <td>58</td>\n",
       "    </tr>\n",
       "    <tr>\n",
       "      <th>1</th>\n",
       "      <td>Skagit</td>\n",
       "      <td>Concrete</td>\n",
       "      <td>WA</td>\n",
       "      <td>98237</td>\n",
       "      <td>2017</td>\n",
       "      <td>CHEVROLET</td>\n",
       "      <td>BOLT EV</td>\n",
       "      <td>238</td>\n",
       "      <td>39.0</td>\n",
       "      <td>POINT (-121.7515 48.53892)</td>\n",
       "      <td>PUGET SOUND ENERGY INC</td>\n",
       "      <td>BEV</td>\n",
       "      <td>Eligible</td>\n",
       "      <td>Mid</td>\n",
       "      <td>annett.christoph@example.com</td>\n",
       "      <td>annett.christoph@example.com</td>\n",
       "      <td>female</td>\n",
       "      <td>72</td>\n",
       "    </tr>\n",
       "    <tr>\n",
       "      <th>2</th>\n",
       "      <td>Snohomish</td>\n",
       "      <td>Everett</td>\n",
       "      <td>WA</td>\n",
       "      <td>98201</td>\n",
       "      <td>2019</td>\n",
       "      <td>FORD</td>\n",
       "      <td>FUSION</td>\n",
       "      <td>26</td>\n",
       "      <td>38.0</td>\n",
       "      <td>POINT (-122.20596 47.97659)</td>\n",
       "      <td>PUGET SOUND ENERGY INC</td>\n",
       "      <td>PHEV</td>\n",
       "      <td>Not Eligible</td>\n",
       "      <td>Low</td>\n",
       "      <td>leccio.duarte@example.com</td>\n",
       "      <td>leccio.duarte@example.com</td>\n",
       "      <td>male</td>\n",
       "      <td>40</td>\n",
       "    </tr>\n",
       "    <tr>\n",
       "      <th>3</th>\n",
       "      <td>Snohomish</td>\n",
       "      <td>Bothell</td>\n",
       "      <td>WA</td>\n",
       "      <td>98021</td>\n",
       "      <td>2018</td>\n",
       "      <td>TESLA</td>\n",
       "      <td>MODEL 3</td>\n",
       "      <td>215</td>\n",
       "      <td>1.0</td>\n",
       "      <td>POINT (-122.18384 47.8031)</td>\n",
       "      <td>PUGET SOUND ENERGY INC</td>\n",
       "      <td>BEV</td>\n",
       "      <td>Eligible</td>\n",
       "      <td>Mid</td>\n",
       "      <td>purificacion.gimenez@example.com</td>\n",
       "      <td>purificacion.gimenez@example.com</td>\n",
       "      <td>female</td>\n",
       "      <td>68</td>\n",
       "    </tr>\n",
       "    <tr>\n",
       "      <th>4</th>\n",
       "      <td>Snohomish</td>\n",
       "      <td>Everett</td>\n",
       "      <td>WA</td>\n",
       "      <td>98203</td>\n",
       "      <td>2013</td>\n",
       "      <td>NISSAN</td>\n",
       "      <td>LEAF</td>\n",
       "      <td>75</td>\n",
       "      <td>38.0</td>\n",
       "      <td>POINT (-122.23019 47.94949)</td>\n",
       "      <td>PUGET SOUND ENERGY INC</td>\n",
       "      <td>BEV</td>\n",
       "      <td>Eligible</td>\n",
       "      <td>Low</td>\n",
       "      <td>umit.topaloglu@example.com</td>\n",
       "      <td>umit.topaloglu@example.com</td>\n",
       "      <td>male</td>\n",
       "      <td>28</td>\n",
       "    </tr>\n",
       "  </tbody>\n",
       "</table>\n",
       "</div>"
      ],
      "text/plain": [
       "      County      City State  Postal_Code  Model_Year       Make    Model  \\\n",
       "0     Yakima    Yakima    WA        98901        2011     NISSAN     LEAF   \n",
       "1     Skagit  Concrete    WA        98237        2017  CHEVROLET  BOLT EV   \n",
       "2  Snohomish   Everett    WA        98201        2019       FORD   FUSION   \n",
       "3  Snohomish   Bothell    WA        98021        2018      TESLA  MODEL 3   \n",
       "4  Snohomish   Everett    WA        98203        2013     NISSAN     LEAF   \n",
       "\n",
       "   Electric_Range  Legislative_District             Vehicle_Location  \\\n",
       "0              73                  15.0  POINT (-120.50721 46.60448)   \n",
       "1             238                  39.0   POINT (-121.7515 48.53892)   \n",
       "2              26                  38.0  POINT (-122.20596 47.97659)   \n",
       "3             215                   1.0   POINT (-122.18384 47.8031)   \n",
       "4              75                  38.0  POINT (-122.23019 47.94949)   \n",
       "\n",
       "         Electric_Utility Vehicle_Type CAFV_Eligibility  \\\n",
       "0              PACIFICORP          BEV         Eligible   \n",
       "1  PUGET SOUND ENERGY INC          BEV         Eligible   \n",
       "2  PUGET SOUND ENERGY INC         PHEV     Not Eligible   \n",
       "3  PUGET SOUND ENERGY INC          BEV         Eligible   \n",
       "4  PUGET SOUND ENERGY INC          BEV         Eligible   \n",
       "\n",
       "  Electric_Range_Category                               VID  \\\n",
       "0                     Low          sofia.zavala@example.com   \n",
       "1                     Mid      annett.christoph@example.com   \n",
       "2                     Low         leccio.duarte@example.com   \n",
       "3                     Mid  purificacion.gimenez@example.com   \n",
       "4                     Low        umit.topaloglu@example.com   \n",
       "\n",
       "                              email  gender  dob.age  \n",
       "0          sofia.zavala@example.com  female       58  \n",
       "1      annett.christoph@example.com  female       72  \n",
       "2         leccio.duarte@example.com    male       40  \n",
       "3  purificacion.gimenez@example.com  female       68  \n",
       "4        umit.topaloglu@example.com    male       28  "
      ]
     },
     "execution_count": 23,
     "metadata": {},
     "output_type": "execute_result"
    }
   ],
   "source": [
    "result.head()"
   ]
  },
  {
   "cell_type": "markdown",
   "id": "1ed51c23",
   "metadata": {},
   "source": [
    "# Step 2 : Find and Drop Duplicates"
   ]
  },
  {
   "cell_type": "code",
   "execution_count": 24,
   "id": "5b0fcf79",
   "metadata": {},
   "outputs": [
    {
     "data": {
      "text/plain": [
       "(73834, 18)"
      ]
     },
     "execution_count": 24,
     "metadata": {},
     "output_type": "execute_result"
    }
   ],
   "source": [
    "result=result.drop_duplicates(keep=False)\n",
    "result.shape"
   ]
  },
  {
   "cell_type": "code",
   "execution_count": 202,
   "id": "f68227a2",
   "metadata": {},
   "outputs": [],
   "source": []
  },
  {
   "cell_type": "markdown",
   "id": "4b4af4c0",
   "metadata": {},
   "source": [
    "# Step 3 : Identify bad data"
   ]
  },
  {
   "cell_type": "code",
   "execution_count": 26,
   "id": "a2083e32",
   "metadata": {},
   "outputs": [
    {
     "data": {
      "text/plain": [
       "WA    73834\n",
       "Name: State, dtype: int64"
      ]
     },
     "execution_count": 26,
     "metadata": {},
     "output_type": "execute_result"
    }
   ],
   "source": [
    "result['State'].value_counts()"
   ]
  },
  {
   "cell_type": "code",
   "execution_count": 27,
   "id": "4b16c9a3",
   "metadata": {},
   "outputs": [],
   "source": [
    "# As the complete data is based on Washington state, we can delete the state column\n",
    "result = result.drop(['State'], axis=1)\n"
   ]
  },
  {
   "cell_type": "markdown",
   "id": "fdd09565",
   "metadata": {},
   "source": [
    "# Step 4 : Format data into a more readable format"
   ]
  },
  {
   "cell_type": "code",
   "execution_count": 32,
   "id": "475924b8",
   "metadata": {},
   "outputs": [],
   "source": [
    "def get_gender(row):\n",
    "    if row == 'male':\n",
    "        return 'M'\n",
    "    if row == 'female':\n",
    "        return 'F'"
   ]
  },
  {
   "cell_type": "code",
   "execution_count": 33,
   "id": "b22252af",
   "metadata": {},
   "outputs": [],
   "source": [
    "result['gender'] = result['gender'].apply(get_gender)"
   ]
  },
  {
   "cell_type": "code",
   "execution_count": 34,
   "id": "6671fc7d",
   "metadata": {},
   "outputs": [
    {
     "data": {
      "text/plain": [
       "F    37715\n",
       "M    36119\n",
       "Name: gender, dtype: int64"
      ]
     },
     "execution_count": 34,
     "metadata": {},
     "output_type": "execute_result"
    }
   ],
   "source": [
    "result['gender'].value_counts()"
   ]
  },
  {
   "cell_type": "markdown",
   "id": "eaa3dcfc",
   "metadata": {},
   "source": [
    "# Step 5 : Replace Header"
   ]
  },
  {
   "cell_type": "code",
   "execution_count": 37,
   "id": "0f1ad2f3",
   "metadata": {},
   "outputs": [
    {
     "data": {
      "text/plain": [
       "VID       object\n",
       "Age        int64\n",
       "Gender    object\n",
       "dtype: object"
      ]
     },
     "execution_count": 37,
     "metadata": {},
     "output_type": "execute_result"
    }
   ],
   "source": [
    "result.rename(columns = {'dob.age':'Age', 'gender':'Gender'}, inplace = True)\n",
    "result = result[['VID', 'Age', 'Gender']]\n",
    "result.dtypes"
   ]
  },
  {
   "cell_type": "code",
   "execution_count": 38,
   "id": "3376efa3",
   "metadata": {},
   "outputs": [],
   "source": [
    "result.to_csv('C:\\Bellevue University MSDS\\DSC_540_Data_Preparation\\Project\\Project Milestone 4\\ms4_output.csv') "
   ]
  },
  {
   "cell_type": "code",
   "execution_count": null,
   "id": "b3a4378b",
   "metadata": {},
   "outputs": [],
   "source": []
  }
 ],
 "metadata": {
  "kernelspec": {
   "display_name": "Python 3 (ipykernel)",
   "language": "python",
   "name": "python3"
  },
  "language_info": {
   "codemirror_mode": {
    "name": "ipython",
    "version": 3
   },
   "file_extension": ".py",
   "mimetype": "text/x-python",
   "name": "python",
   "nbconvert_exporter": "python",
   "pygments_lexer": "ipython3",
   "version": "3.9.13"
  }
 },
 "nbformat": 4,
 "nbformat_minor": 5
}
