{
 "cells": [
  {
   "cell_type": "markdown",
   "id": "3f223ed8",
   "metadata": {},
   "source": [
    "# Data Wrangling with Python: Activity 9, page 294"
   ]
  },
  {
   "cell_type": "code",
   "execution_count": 22,
   "id": "8f3d81c8",
   "metadata": {},
   "outputs": [],
   "source": [
    "#Import necessary libraries including regex, and beautifulsoup\n",
    "import urllib.request, urllib.parse, urllib.error\n",
    "import requests\n",
    "from bs4 import BeautifulSoup\n",
    "import ssl\n",
    "import re"
   ]
  },
  {
   "cell_type": "code",
   "execution_count": 23,
   "id": "58555c6e",
   "metadata": {},
   "outputs": [],
   "source": [
    "ctx = ssl.create_default_context()\n",
    "ctx.check_hostname = False\n",
    "ctx.verify_mode = ssl.CERT_NONE"
   ]
  },
  {
   "cell_type": "code",
   "execution_count": 24,
   "id": "f7c15d37",
   "metadata": {},
   "outputs": [],
   "source": [
    "#Read HTML from the URL\n",
    "top100url = 'https://www.gutenberg.org/browse/scores/top'\n",
    "response = requests.get(top100url)"
   ]
  },
  {
   "cell_type": "code",
   "execution_count": 25,
   "id": "8a062d60",
   "metadata": {},
   "outputs": [],
   "source": [
    "#Write a small function to check the status of web request\n",
    "def status_check(r):\n",
    "    if r.status_code==200:\n",
    "        print(\"Success!\")\n",
    "        return 1\n",
    "    else:\n",
    "        print(\"Failed!\")\n",
    "        return -1"
   ]
  },
  {
   "cell_type": "code",
   "execution_count": 26,
   "id": "f3a7e96f",
   "metadata": {},
   "outputs": [
    {
     "name": "stdout",
     "output_type": "stream",
     "text": [
      "Success!\n"
     ]
    },
    {
     "data": {
      "text/plain": [
       "1"
      ]
     },
     "execution_count": 26,
     "metadata": {},
     "output_type": "execute_result"
    }
   ],
   "source": [
    "status_check(response)"
   ]
  },
  {
   "cell_type": "code",
   "execution_count": 27,
   "id": "5cf2d449",
   "metadata": {},
   "outputs": [],
   "source": [
    "#Decode the response and pass on to BeautifulSoup for HTML parsing\n",
    "contents = response.content.decode(response.encoding)"
   ]
  },
  {
   "cell_type": "code",
   "execution_count": 28,
   "id": "446abce3",
   "metadata": {},
   "outputs": [],
   "source": [
    "soup = BeautifulSoup(contents, 'html.parser')"
   ]
  },
  {
   "cell_type": "code",
   "execution_count": 29,
   "id": "966146f4",
   "metadata": {},
   "outputs": [],
   "source": [
    "#Find all the href tags and store them in the list of links. Check how the list looks like - print first 30 elements\n",
    "lst_links=[]\n",
    "for link in soup.find_all('a'):\n",
    "    #print(link.get('href'))\n",
    "    lst_links.append(link.get('href'))"
   ]
  },
  {
   "cell_type": "code",
   "execution_count": 30,
   "id": "bd5fd232",
   "metadata": {},
   "outputs": [
    {
     "data": {
      "text/plain": [
       "['/',\n",
       " '/about/',\n",
       " '/about/',\n",
       " '/policy/collection_development.html',\n",
       " '/about/contact_information.html',\n",
       " '/about/background/',\n",
       " '/policy/permission.html',\n",
       " '/policy/privacy_policy.html',\n",
       " '/policy/terms_of_use.html',\n",
       " '/ebooks/',\n",
       " '/ebooks/',\n",
       " '/ebooks/bookshelf/',\n",
       " '/browse/scores/top',\n",
       " '/ebooks/offline_catalogs.html',\n",
       " '/help/',\n",
       " '/help/',\n",
       " '/help/copyright.html',\n",
       " '/help/errata.html',\n",
       " '/help/file_formats.html',\n",
       " '/help/faq.html',\n",
       " '/policy/',\n",
       " '/help/public_domain_ebook_submission.html',\n",
       " '/help/submitting_your_own_work.html',\n",
       " '/help/mobile.html',\n",
       " '/attic/',\n",
       " '/donate/',\n",
       " '/donate/',\n",
       " '#books-last1',\n",
       " '#authors-last1',\n",
       " '#books-last7']"
      ]
     },
     "execution_count": 30,
     "metadata": {},
     "output_type": "execute_result"
    }
   ],
   "source": [
    "lst_links[:30]"
   ]
  },
  {
   "cell_type": "code",
   "execution_count": 31,
   "id": "8d60e934",
   "metadata": {},
   "outputs": [],
   "source": [
    "#Use regular expression to find the numeric digits in these links.These are the file number for the Top 100 books.\n",
    "#Initialize empty list to hold the file numbers\n",
    "booknum=[]"
   ]
  },
  {
   "cell_type": "code",
   "execution_count": 32,
   "id": "f6569036",
   "metadata": {},
   "outputs": [],
   "source": [
    "for i in range(19,119):\n",
    "    link=lst_links[i]\n",
    "    link=link.strip()\n",
    "    # Regular expression to find the numeric digits in the link (href) string\n",
    "    n=re.findall('[0-9]+',link)\n",
    "    if len(n)==1:\n",
    "        # Append the filenumber casted as integer\n",
    "        booknum.append(int(n[0]))"
   ]
  },
  {
   "cell_type": "code",
   "execution_count": 33,
   "id": "3bad50f8",
   "metadata": {},
   "outputs": [
    {
     "name": "stdout",
     "output_type": "stream",
     "text": [
      "\n",
      "The file numbers for the top 100 ebooks on Gutenberg are shown below\n",
      "----------------------------------------------------------------------\n",
      "[1, 1, 7, 7, 30, 30, 1513, 2641, 145, 37106, 16389, 67979, 2701, 100, 394, 6761, 2160, 4085, 6593, 1259, 5197, 84, 1342, 11, 69984, 1952, 64317, 98, 1080, 174, 25344, 2542, 408, 1661, 23, 1400, 345, 5200, 1260, 43, 69983, 844, 76, 4300, 46, 20228, 2591, 219, 6130, 1727, 28054, 1232, 205, 2814, 2554, 42108, 1184, 69988, 1497, 36, 15399, 2600, 74, 16, 768, 2852, 7370, 5740, 3206, 45, 11030, 69989, 3207, 69985, 69976, 215, 514, 996, 120, 69979, 2680, 4363, 5827, 55, 3825, 30254, 48438, 67098, 1250, 851, 16328, 35]\n"
     ]
    }
   ],
   "source": [
    "#Print the file numbers\n",
    "print (\"\\nThe file numbers for the top 100 ebooks on Gutenberg are shown below\\n\"+\"-\"*70)\n",
    "print(booknum)"
   ]
  },
  {
   "cell_type": "code",
   "execution_count": 34,
   "id": "d4678d75",
   "metadata": {},
   "outputs": [
    {
     "name": "stdout",
     "output_type": "stream",
     "text": [
      "\n",
      "\n",
      "\n",
      "\n",
      "Top 100 | Project Gutenberg\n",
      "\n",
      "\n",
      "\n",
      "\n",
      "\n",
      "\n",
      "\n",
      "\n",
      "\n",
      "\n",
      "\n",
      "\n",
      "\n",
      "\n",
      "\n",
      "\n",
      "\n",
      "\n",
      "\n",
      "\n",
      "\n",
      "\n",
      "\n",
      "\n",
      "\n",
      "\n",
      "\n",
      "Menu▾\n",
      "\n",
      "\n",
      "\n",
      "About\n",
      "          ▾\n",
      "\n",
      "▾\n",
      "\n",
      "\n",
      "About Project Gutenberg\n",
      "Collection Development\n",
      "Contact Us\n",
      "History & Philosophy\n",
      "Permissions & License\n",
      "Privacy Policy\n",
      "Terms of Use\n",
      "\n",
      "\n",
      "\n",
      "Search and Browse\n",
      "      \t  ▾\n",
      "\n",
      "▾\n",
      "\n",
      "\n",
      "Book Search\n",
      "Bookshelves\n",
      "Frequently Downloaded\n",
      "Offline Catalogs\n",
      "\n",
      "\n",
      "\n",
      "Help\n",
      "          ▾\n",
      "\n",
      "▾\n",
      "\n",
      "\n",
      "All help topics →\n",
      "Copyright Procedures\n",
      "Errata, Fixes and Bug Reports\n",
      "File Formats\n",
      "Frequently Asked Questions\n",
      "Policies →\n",
      "Public Domain eBook Submission\n",
      "Submitting Your Own Work\n",
      "Tablets, Phones and eReaders\n",
      "The Attic →\n",
      "\n",
      "\n",
      "Donate\n",
      "\n",
      "\n",
      "\n",
      "\n",
      "\n",
      "\n",
      "\n",
      "\n",
      "\n",
      "\n",
      "Donation\n",
      "\n",
      "\n",
      "\n",
      "\n",
      "\n",
      "\n",
      "\n",
      "Frequently Viewed or Downloaded\n",
      "These listings are based on the number of times each eBook gets downloaded.\n",
      "      Multiple downloads from the same Internet address on the same day count as one download, and addresses that download more than 100 eBooks in a day are considered robots and are not counted.\n",
      "\n",
      "Downloaded Books\n",
      "2023-02-08321465\n",
      "last 7 days1979137\n",
      "last 30 days7987892\n",
      "\n",
      "\n",
      "\n",
      "Top 100 EBooks yesterday\n",
      "Top 100 Authors yesterday\n",
      "Top 100 EBooks last 7 days\n",
      "Top 100 Authors last 7 days\n",
      "Top 100 EBooks last 30 days\n",
      "Top 100 Authors last 30 days\n",
      "\n",
      "\n",
      "Top 100 EBooks yesterday\n",
      "\n",
      "Romeo and Juliet by William Shakespeare (7331)\n",
      "A Room with a View by E. M.  Forster (6198)\n",
      "Middlemarch by George Eliot (6057)\n",
      "Little Women; Or, Meg, Jo, Beth, and Amy by Louisa May Alcott (5688)\n",
      "The Enchanted April by Elizabeth Von Arnim (5598)\n",
      "The Blue Castle: a novel by L. M.  Montgomery (5469)\n",
      "Moby Dick; Or, The Whale by Herman Melville (5408)\n",
      "The Complete Works of William Shakespeare by William Shakespeare (5368)\n",
      "Cranford by Elizabeth Cleghorn Gaskell (5283)\n",
      "The Adventures of Ferdinand Count Fathom — Complete by T.  Smollett (5270)\n",
      "The Expedition of Humphry Clinker by T.  Smollett (5131)\n",
      "The Adventures of Roderick Random by T.  Smollett (5088)\n",
      "History of Tom Jones, a Foundling by Henry Fielding (4838)\n",
      "Twenty Years After by Alexandre Dumas (4691)\n",
      "My Life — Volume 1 by Richard Wagner (4687)\n",
      "Frankenstein; Or, The Moder\n"
     ]
    }
   ],
   "source": [
    "#How does the soup object's text look like? Use .text() method and print only first 2000 characters (i.e. do not print the whole thing, it is long).\n",
    "print(soup.text[:2000])"
   ]
  },
  {
   "cell_type": "code",
   "execution_count": 35,
   "id": "53effe42",
   "metadata": {},
   "outputs": [],
   "source": [
    "#Search in the extracted text (using regular expression) from the soup object to find the names of top 100 Ebooks (Yesterday's rank)\n",
    "lst_titles_temp=[]"
   ]
  },
  {
   "cell_type": "code",
   "execution_count": 36,
   "id": "b993c8ed",
   "metadata": {},
   "outputs": [],
   "source": [
    "#Create a starting index. It should point at the text \"Top 100 Ebooks yesterday\". Hint: Use splitlines() method of the soup.text. It splits the lines of the text of the soup object.\n",
    "start_idx=soup.text.splitlines().index('Top 100 EBooks yesterday')"
   ]
  },
  {
   "cell_type": "code",
   "execution_count": 37,
   "id": "01f3a35c",
   "metadata": {},
   "outputs": [],
   "source": [
    "#Loop 1-100 to add the strings of next 100 lines to this temporary list. Hint: splitlines() method\n",
    "for i in range(100):\n",
    "    lst_titles_temp.append(soup.text.splitlines()[start_idx+2+i])"
   ]
  },
  {
   "cell_type": "code",
   "execution_count": 38,
   "id": "3ea24bbc",
   "metadata": {},
   "outputs": [],
   "source": [
    "#Use regular expression to extract only text from the name strings and append to an empty list\n",
    "lst_titles=[]\n",
    "for i in range(100):\n",
    "    id1,id2=re.match('^[a-zA-Z ]*',lst_titles_temp[i]).span()\n",
    "    lst_titles.append(lst_titles_temp[i][id1:id2])"
   ]
  },
  {
   "cell_type": "code",
   "execution_count": 39,
   "id": "f20b438d",
   "metadata": {},
   "outputs": [
    {
     "name": "stdout",
     "output_type": "stream",
     "text": [
      "Top \n",
      "Top \n",
      "Top \n",
      "Top \n",
      "\n",
      "\n",
      "Top \n",
      "\n",
      "Romeo and Juliet by William Shakespeare \n",
      "A Room with a View by E\n",
      "Middlemarch by George Eliot \n",
      "Little Women\n",
      "The Enchanted April by Elizabeth Von Arnim \n",
      "The Blue Castle\n",
      "Moby Dick\n",
      "The Complete Works of William Shakespeare by William Shakespeare \n",
      "Cranford by Elizabeth Cleghorn Gaskell \n",
      "The Adventures of Ferdinand Count Fathom \n",
      "The Expedition of Humphry Clinker by T\n",
      "The Adventures of Roderick Random by T\n",
      "History of Tom Jones\n",
      "Twenty Years After by Alexandre Dumas \n",
      "My Life \n",
      "Frankenstein\n",
      "Pride and Prejudice by Jane Austen \n",
      "Alice\n",
      "The mystery of Central Park by Nellie Bly \n",
      "The Yellow Wallpaper by Charlotte Perkins Gilman \n",
      "The Great Gatsby by F\n",
      "A Tale of Two Cities by Charles Dickens \n",
      "A Modest Proposal by Jonathan Swift \n",
      "The Picture of Dorian Gray by Oscar Wilde \n",
      "The Scarlet Letter by Nathaniel Hawthorne \n",
      "A Doll\n",
      "The Souls of Black Folk by W\n",
      "The Adventures of Sherlock Holmes by Arthur Conan Doyle \n",
      "Narrative of the Life of Frederick Douglass\n",
      "Great Expectations by Charles Dickens \n",
      "Dracula by Bram Stoker \n",
      "Metamorphosis by Franz Kafka \n",
      "Jane Eyre\n",
      "The Strange Case of Dr\n",
      "An original theory or new hypothesis of the Universe by Thomas Wright \n",
      "The Importance of Being Earnest\n",
      "Adventures of Huckleberry Finn by Mark Twain \n",
      "Ulysses by James Joyce \n",
      "A Christmas Carol in Prose\n",
      "Noli Me Tangere by Jos\n",
      "Grimms\n",
      "Heart of Darkness by Joseph Conrad \n",
      "The Iliad by Homer \n",
      "The Odyssey by Homer \n",
      "The Brothers Karamazov by Fyodor Dostoyevsky \n",
      "The Prince by Niccol\n",
      "Walden\n",
      "Dubliners by James Joyce \n",
      "Crime and Punishment by Fyodor Dostoyevsky \n",
      "The Slang Dictionary\n",
      "The Count of Monte Cristo\n",
      "The house on the cliff by Franklin W\n",
      "The Republic by Plato \n",
      "The War of the Worlds by H\n",
      "The Interesting Narrative of the Life of Olaudah Equiano\n",
      "War and Peace by graf Leo Tolstoy \n",
      "The Adventures of Tom Sawyer\n",
      "Peter Pan by J\n",
      "Wuthering Heights by Emily Bront\n",
      "The Hound of the Baskervilles by Arthur Conan Doyle \n",
      "Second Treatise of Government by John Locke \n",
      "Tractatus Logico\n",
      "Moby Multiple Language Lists of Common Words by Grady Ward \n",
      "Anne of Green Gables by L\n",
      "Incidents in the Life of a Slave Girl\n",
      "Handicraft for boys by A\n",
      "Leviathan by Thomas Hobbes \n",
      "Ilex cassine\n",
      "All about Little Boy Blue by Emma Gelders Sterne \n",
      "The Call of the Wild by Jack London \n",
      "Little Women by Louisa May Alcott \n",
      "Don Quixote by Miguel de Cervantes Saavedra \n",
      "Treasure Island by Robert Louis Stevenson \n",
      "Star Book No\n",
      "Meditations by Emperor of Rome Marcus Aurelius \n",
      "Beyond Good and Evil by Friedrich Wilhelm Nietzsche \n",
      "The Problems of Philosophy by Bertrand Russell \n",
      "The Wonderful Wizard of Oz by L\n",
      "Pygmalion by Bernard Shaw \n",
      "The Romance of Lust\n",
      "Rizal\n",
      "Winnie\n",
      "Anthem by Ayn Rand \n",
      "Narrative of the Captivity and Restoration of Mrs\n",
      "Beowulf\n",
      "The Time Machine by H\n",
      "Emma by Jane Austen \n",
      "Essays of Michel de Montaigne \n",
      "Gulliver\n",
      "Candide by Voltaire \n",
      "The botanist\n",
      "The Reign of Greed by Jos\n"
     ]
    }
   ],
   "source": [
    "#Print the list of title\n",
    "for l in lst_titles:\n",
    "    print(l)"
   ]
  },
  {
   "cell_type": "markdown",
   "id": "72fa8c2f",
   "metadata": {},
   "source": [
    "# Data Wrangling with Python: Activity 10, page 295"
   ]
  },
  {
   "cell_type": "code",
   "execution_count": null,
   "id": "47180952",
   "metadata": {},
   "outputs": [],
   "source": [
    "    #Retrieves and prints basic data about a movie (title entered by user) from the web (OMDB database)\n",
    "    #If a poster of the movie could be found, it downloads the file and saves at a user-specified location"
   ]
  },
  {
   "cell_type": "code",
   "execution_count": 2,
   "id": "ac49caa8",
   "metadata": {},
   "outputs": [],
   "source": [
    "import urllib.request, urllib.parse, urllib.error\n",
    "import json"
   ]
  },
  {
   "cell_type": "code",
   "execution_count": 3,
   "id": "dda242a8",
   "metadata": {},
   "outputs": [],
   "source": [
    "#Load the secret API key (you have to get one from OMDB website and use that, 1000 daily limit) from a JSON file, stored in the same folder into a variable"
   ]
  },
  {
   "cell_type": "code",
   "execution_count": 7,
   "id": "179720b4",
   "metadata": {},
   "outputs": [],
   "source": [
    "with open('APIkeys.json') as f:\n",
    "    keys = json.load(f)\n",
    "    omdbapi = keys['keys']"
   ]
  },
  {
   "cell_type": "code",
   "execution_count": 9,
   "id": "8c94557e",
   "metadata": {},
   "outputs": [],
   "source": [
    "#print(omdbapi)"
   ]
  },
  {
   "cell_type": "markdown",
   "id": "38d2d25b",
   "metadata": {},
   "source": [
    "The final URL to be passed should look like:  http://www.omdbapi.com/?i=tt3896198&apikey=ca392c03"
   ]
  },
  {
   "cell_type": "markdown",
   "id": "a80f08eb",
   "metadata": {},
   "source": [
    "Create a variable apikey with the last portion of the URL (\"&apikey=secretapikey\"), where secretapikey is your own API key (an actual code)"
   ]
  },
  {
   "cell_type": "code",
   "execution_count": 10,
   "id": "17801f12",
   "metadata": {},
   "outputs": [],
   "source": [
    "serviceurl = 'http://www.omdbapi.com/?'\n",
    "apikey = '&apikey='+omdbapi"
   ]
  },
  {
   "cell_type": "markdown",
   "id": "991f404f",
   "metadata": {},
   "source": [
    "Write a utility function print_json to print nicely the movie data from a JSON file (which we will get from the portal)"
   ]
  },
  {
   "cell_type": "code",
   "execution_count": 11,
   "id": "7a7995a5",
   "metadata": {},
   "outputs": [],
   "source": [
    "def print_json(json_data):\n",
    "    list_keys=['Title', 'Year', 'Rated', 'Released', 'Runtime', 'Genre', 'Director', 'Writer', \n",
    "               'Actors', 'Plot', 'Language', 'Country', 'Awards', 'Ratings', \n",
    "               'Metascore', 'imdbRating', 'imdbVotes', 'imdbID']\n",
    "    print(\"=\"*50)\n",
    "    for k in list_keys:\n",
    "        if k in list(json_data.keys()):\n",
    "            print(f\"        {k}: {json_data[k]}\")\n",
    "    print(\"=\"*50)\n",
    "\n"
   ]
  },
  {
   "cell_type": "markdown",
   "id": "56f4333b",
   "metadata": {},
   "source": [
    "Write a utility function to download a poster of the movie based on the information from the jason dataset and save in your local folder\n",
    "\n",
    "    Use os module\n",
    "    The poster data is stored in the JSON key 'Poster'\n",
    "    You may want to split the name of the Poster file and extract the file extension only. Let's say the extension is *'jpg'*.\n",
    "    Then later join this extension to the movie name and create a filename like *movie.jpg*\n",
    "    Use the Python command open to open a file and write the poster data. Close the file after done.\n",
    "    This function may not return anything. It just saves the poster data as an image file."
   ]
  },
  {
   "cell_type": "code",
   "execution_count": 12,
   "id": "053ff32b",
   "metadata": {},
   "outputs": [],
   "source": [
    "def save_poster(json_data):\n",
    "    import os\n",
    "    title = json_data['Title']\n",
    "    poster_url = json_data['Poster']\n",
    "    # Splits the poster url by '.' and picks up the last string as file extension\n",
    "    poster_file_extension=poster_url.split('.')[-1]\n",
    "    # Reads the image file from web\n",
    "    poster_data = urllib.request.urlopen(poster_url).read()\n",
    "        \n",
    "    savelocation=os.getcwd()+'\\\\'+'Posters'+'\\\\'\n",
    "    # Creates new directory if the directory does not exist. Otherwise, just use the existing path.\n",
    "    if not os.path.isdir(savelocation):\n",
    "        os.mkdir(savelocation)\n",
    "    \n",
    "    filename=savelocation+str(title)+'.'+poster_file_extension\n",
    "    f=open(filename,'wb')\n",
    "    f.write(poster_data)\n",
    "    f.close()"
   ]
  },
  {
   "cell_type": "markdown",
   "id": "d1ebf187",
   "metadata": {},
   "source": [
    "Write a utility function search_movie to search a movie by its name, print the downloaded JSON data (use the print_json function for this) and save the movie poster in the local folder (use save_poster function for this)\n",
    "\n",
    "    Use try-except loop for this i.e. try to connect to the web portal, if successful proceed but if not (i.e. exception raised) then just print an error message\n",
    "    Here use the previously created variables serviceurl and apikey\n",
    "    You have to pass on a dictionary with a key t and the movie name as the corresponding value to urllib.parse.urlencode() function and then add the serviceurl and apikey to the output of the function to construct the full URL\n",
    "    This URL will be used for accessing the data\n",
    "    The JSON data has a key called Response. If it is True, that means the read was successful. Check this before processing the data. If not successful, then print the JSON key Error, which will contain the appropriate error message returned by the movie database.\n",
    "\n"
   ]
  },
  {
   "cell_type": "code",
   "execution_count": 13,
   "id": "ac03d789",
   "metadata": {},
   "outputs": [],
   "source": [
    "def search_movie(title):\n",
    "    try:\n",
    "        url = serviceurl + urllib.parse.urlencode({'t': str(title)})+apikey\n",
    "        print(f'Retrieving the data of \"{title}\" now... ')\n",
    "        print(url)\n",
    "        uh = urllib.request.urlopen(url)\n",
    "        data = uh.read()\n",
    "        json_data=json.loads(data)\n",
    "        \n",
    "        if json_data['Response']=='True':\n",
    "            print_json(json_data)\n",
    "            # Asks user whether to download the poster of the movie\n",
    "            if json_data['Poster']!='N/A':\n",
    "                save_poster(json_data)\n",
    "        else:\n",
    "            print(\"Error encountered: \",json_data['Error'])\n",
    "    \n",
    "    except urllib.error.URLError as e:\n",
    "        print(f\"ERROR: {e.reason}\")"
   ]
  },
  {
   "cell_type": "code",
   "execution_count": 15,
   "id": "d962923d",
   "metadata": {},
   "outputs": [
    {
     "name": "stdout",
     "output_type": "stream",
     "text": [
      "Retrieving the data of \"Enter The Dragon\" now... \n",
      "http://www.omdbapi.com/?t=Enter+The+Dragon&apikey=ca392c03\n",
      "==================================================\n",
      "        Title: Enter the Dragon\n",
      "        Year: 1973\n",
      "        Rated: R\n",
      "        Released: 19 Aug 1973\n",
      "        Runtime: 102 min\n",
      "        Genre: Action, Crime, Drama\n",
      "        Director: Robert Clouse\n",
      "        Writer: Michael Allin, Bruce Lee\n",
      "        Actors: Bruce Lee, John Saxon, Jim Kelly\n",
      "        Plot: A Shaolin martial artist travels to an island fortress to spy on an opium lord - who is also a former monk from his temple - under the guise of attending a fighting tournament.\n",
      "        Language: English, Cantonese\n",
      "        Country: Hong Kong, United States\n",
      "        Awards: 1 win\n",
      "        Ratings: [{'Source': 'Internet Movie Database', 'Value': '7.6/10'}, {'Source': 'Rotten Tomatoes', 'Value': '95%'}, {'Source': 'Metacritic', 'Value': '83/100'}]\n",
      "        Metascore: 83\n",
      "        imdbRating: 7.6\n",
      "        imdbVotes: 106,190\n",
      "        imdbID: tt0070034\n",
      "==================================================\n"
     ]
    }
   ],
   "source": [
    "#Testing of search move function\n",
    "search_movie(\"Enter The Dragon\")"
   ]
  },
  {
   "cell_type": "markdown",
   "id": "38b8ad95",
   "metadata": {},
   "source": [
    "Test search_movie function by entering \"Random_error\" (obviously this will not be found and you should be able to check whether your error catching code is working properly)"
   ]
  },
  {
   "cell_type": "code",
   "execution_count": 16,
   "id": "4b64d834",
   "metadata": {},
   "outputs": [
    {
     "name": "stdout",
     "output_type": "stream",
     "text": [
      "Retrieving the data of \"Random_error\" now... \n",
      "http://www.omdbapi.com/?t=Random_error&apikey=ca392c03\n",
      "Error encountered:  Movie not found!\n"
     ]
    }
   ],
   "source": [
    "search_movie(\"Random_error\")"
   ]
  },
  {
   "cell_type": "markdown",
   "id": "77602f05",
   "metadata": {},
   "source": [
    "# Connect to the Twitter API and do a simple data pull"
   ]
  },
  {
   "cell_type": "raw",
   "id": "c59fee98",
   "metadata": {},
   "source": [
    "Connect to the Twitter API and do a simple data pull\n",
    "a. If you don’t have a twitter account – create one at twitter.com/signup (you can delete the account after this assignment)\n",
    "b. Sign in to apps.twitter.com\n",
    "c. Click “Create New App”\n",
    "d. Give your app a name and description\n",
    "e. Agree to the developer agreement – you will want to make sure to indicate this is for a class project, and this step can take several days to get through, so don’t wait until last minute to complete this portion of the assignment\n",
    "f. Create an access token\n",
    "g. You should receive a consumer key and a token\n",
    "h. Using either the instructions from the book on connecting to an API or for help look here – pull back data searching for “Bellevue University” and “Data Science” (or something else you are interested in)\n",
    "i. How to Create a Twitter App and API Interface via Python. (Grogan, 2016)\n",
    "ii. Welcome Python-Twitter’s Documentation!  (The Python-Twitter Developers, 2016)"
   ]
  },
  {
   "cell_type": "code",
   "execution_count": 18,
   "id": "3f0d0698",
   "metadata": {},
   "outputs": [
    {
     "name": "stdout",
     "output_type": "stream",
     "text": [
      "Collecting tweepyNote: you may need to restart the kernel to use updated packages.\n",
      "\n",
      "  Downloading tweepy-4.12.1-py3-none-any.whl (101 kB)\n",
      "     -------------------------------------- 101.6/101.6 kB 5.7 MB/s eta 0:00:00\n",
      "Collecting requests-oauthlib<2,>=1.2.0\n",
      "  Downloading requests_oauthlib-1.3.1-py2.py3-none-any.whl (23 kB)\n",
      "Requirement already satisfied: requests<3,>=2.27.0 in c:\\users\\atanu\\anaconda3\\lib\\site-packages (from tweepy) (2.28.1)\n",
      "Collecting oauthlib<4,>=3.2.0\n",
      "  Downloading oauthlib-3.2.2-py3-none-any.whl (151 kB)\n",
      "     -------------------------------------- 151.7/151.7 kB 4.6 MB/s eta 0:00:00\n",
      "Requirement already satisfied: idna<4,>=2.5 in c:\\users\\atanu\\anaconda3\\lib\\site-packages (from requests<3,>=2.27.0->tweepy) (3.3)\n",
      "Requirement already satisfied: urllib3<1.27,>=1.21.1 in c:\\users\\atanu\\anaconda3\\lib\\site-packages (from requests<3,>=2.27.0->tweepy) (1.26.11)\n",
      "Requirement already satisfied: certifi>=2017.4.17 in c:\\users\\atanu\\anaconda3\\lib\\site-packages (from requests<3,>=2.27.0->tweepy) (2022.9.14)\n",
      "Requirement already satisfied: charset-normalizer<3,>=2 in c:\\users\\atanu\\anaconda3\\lib\\site-packages (from requests<3,>=2.27.0->tweepy) (2.0.4)\n",
      "Installing collected packages: oauthlib, requests-oauthlib, tweepy\n",
      "Successfully installed oauthlib-3.2.2 requests-oauthlib-1.3.1 tweepy-4.12.1\n"
     ]
    }
   ],
   "source": [
    "pip install tweepy"
   ]
  },
  {
   "cell_type": "code",
   "execution_count": 19,
   "id": "e255c50f",
   "metadata": {},
   "outputs": [],
   "source": [
    "# I am using tweepy library to get data from twitter.\n",
    "import tweepy"
   ]
  },
  {
   "cell_type": "code",
   "execution_count": 21,
   "id": "93f05fb1",
   "metadata": {},
   "outputs": [],
   "source": [
    "# Lets save the credentials in the variable\n",
    "consumer_key = \"f6ooxq3L2J1GLn1ZTQfq6ZP7a\"  #same as api key\n",
    "consumer_secret = \"PGIMSOVMGw4P3ffowHfjFo0Q9iAUt6ExzhFRjllrlt8nhj4Gwx\"  #same as api secret\n",
    "access_key = \"1021444442-zXCvSGERjJZ7m8e8nTde3Ic2D7RDqC9uE3r7uN9\"\n",
    "access_secret = \"8pbfIHZcYRksoCJDk8JlyzCtTgy3hhYBp4nEr9Uhtp4fu\""
   ]
  },
  {
   "cell_type": "code",
   "execution_count": 25,
   "id": "85993931",
   "metadata": {},
   "outputs": [],
   "source": [
    "#Lets create the AUTH and create api object\n",
    "\n",
    "# Twitter authentication\n",
    "auth = tweepy.OAuthHandler(consumer_key, consumer_secret)   \n",
    "auth.set_access_token(access_key, access_secret) \n",
    "  \n",
    "# Creating an API object \n",
    "api = tweepy.API(auth)"
   ]
  },
  {
   "cell_type": "code",
   "execution_count": 29,
   "id": "56ce7d0b",
   "metadata": {},
   "outputs": [],
   "source": [
    "username_tweets = tweepy.Cursor(api.search_tweets, q=\"@elonmusk\", tweet_mode='extended').items(5)"
   ]
  },
  {
   "cell_type": "code",
   "execution_count": 30,
   "id": "56eeea3e",
   "metadata": {},
   "outputs": [
    {
     "name": "stdout",
     "output_type": "stream",
     "text": [
      "RT @elonmusk: True\n",
      "0\n",
      "4798\n",
      "2023-02-16 00:39:25+00:00\n",
      "@elonmusk @POTUS @Tesla @siddharthkara\n",
      "0\n",
      "0\n",
      "2023-02-16 00:39:25+00:00\n",
      "RT @elonmusk: And has 🔥🔥 style https://t.co/9rcEtu9w1Z\n",
      "0\n",
      "22544\n",
      "2023-02-16 00:39:24+00:00\n",
      "@elonmusk anj lu\n",
      "0\n",
      "0\n",
      "2023-02-16 00:39:24+00:00\n",
      "@elonmusk @Teslaconomics If it's off-grid, something has to fuel the generator.\n",
      "0\n",
      "0\n",
      "2023-02-16 00:39:24+00:00\n"
     ]
    }
   ],
   "source": [
    "for tweet in username_tweets:\n",
    "    text = tweet._json[\"full_text\"]\n",
    "    print(text)    #using different attributes\n",
    "    print(tweet.favorite_count)\n",
    "    print(tweet.retweet_count)\n",
    "    print(tweet.created_at)"
   ]
  },
  {
   "cell_type": "code",
   "execution_count": 32,
   "id": "ced35a8d",
   "metadata": {},
   "outputs": [
    {
     "name": "stdout",
     "output_type": "stream",
     "text": [
      "#VaccinationDrive Karnataka cumulatively upto 3.30pm on February 15 has administered 1/2 dose vaccine to 117556416 people aged 12-14; 15-17; 18-44; 45-60 &amp; 60+. Total 122142043 doses administered: @DHFWKA. @MoHFW_INDIA @sputnikvaccine @mangalurucorp @SerumInstIndia @BharatBiotech https://t.co/1sL9itkySr\n",
      "MR campaign running smoothly at West District Delhi #MRCampaign #VaccinationDrive #healthcare \n",
      "@iasdanishashraf\n",
      "@MoHFW_INDIA\n",
      "@CMODelhi\n",
      " @LtGovDelhi https://t.co/mR5dAJ17i9\n",
      "Health worker sensitizing people visited Hospital #MRCampaign #VaccinationDrive #healthcare  @iasdanishashraf  @MoHFW_INDIA  @CMODelhi   @LtGovDelhi https://t.co/qR1LGlMYjO\n",
      "RT @DelhiDfw: After receiving the MR vaccine, children aged 9 months to 5 years pose in front of the camera, their shining eyes motivate us…\n",
      "After receiving the MR vaccine, children aged 9 months to 5 years pose in front of the camera, their shining eyes motivate us to make MR a success.\n",
      "#MRCampaign #VaccinationDrive #healthcare \n",
      "@iasdanishashraf\n",
      "@MoHFW_INDIA\n",
      "@CMODelhi \n",
      "@LtGovDelhi https://t.co/cEc8FAmiq8\n"
     ]
    }
   ],
   "source": [
    "#below is the example of particular tweet.\n",
    "hashtag_tweets = tweepy.Cursor(api.search_tweets, q=\"#VaccinationDrive\", tweet_mode='extended').items(5)\n",
    "for tweet in hashtag_tweets:\n",
    "    text = tweet._json[\"full_text\"]\n",
    "    print(text)"
   ]
  },
  {
   "cell_type": "raw",
   "id": "539809a6",
   "metadata": {},
   "source": [
    "4. Using one of the datasets provided in Weeks 7 & 8, or a dataset of your own, choose 3 of the following visualizations to complete. You must submit via PDF along with your code. You are free to use Matplotlib, Seaborn or another package if you prefer.\n",
    "a. Line\n",
    "b. Scatter\n",
    "c. Bar\n",
    "d. Histogram\n",
    "e. Density Plot\n",
    "f. Pie Chart"
   ]
  },
  {
   "cell_type": "code",
   "execution_count": 1,
   "id": "c0738471",
   "metadata": {
    "scrolled": true
   },
   "outputs": [
    {
     "data": {
      "text/html": [
       "<div>\n",
       "<style scoped>\n",
       "    .dataframe tbody tr th:only-of-type {\n",
       "        vertical-align: middle;\n",
       "    }\n",
       "\n",
       "    .dataframe tbody tr th {\n",
       "        vertical-align: top;\n",
       "    }\n",
       "\n",
       "    .dataframe thead th {\n",
       "        text-align: right;\n",
       "    }\n",
       "</style>\n",
       "<table border=\"1\" class=\"dataframe\">\n",
       "  <thead>\n",
       "    <tr style=\"text-align: right;\">\n",
       "      <th></th>\n",
       "      <th>Internal ID</th>\n",
       "      <th>Q1: GOING OUT?</th>\n",
       "      <th>Q2: GENDER</th>\n",
       "      <th>Q3: AGE</th>\n",
       "      <th>Q4: COUNTRY</th>\n",
       "      <th>Q5: STATE, PROVINCE, COUNTY, ETC</th>\n",
       "      <th>Q6 | 100 Grand Bar</th>\n",
       "      <th>Q6 | Anonymous brown globs that come in black and orange wrappers\\t(a.k.a. Mary Janes)</th>\n",
       "      <th>Q6 | Any full-sized candy bar</th>\n",
       "      <th>Q6 | Black Jacks</th>\n",
       "      <th>Q6 | Bonkers (the candy)</th>\n",
       "      <th>Q6 | Bonkers (the board game)</th>\n",
       "      <th>Q6 | Bottle Caps</th>\n",
       "      <th>Q6 | Box'o'Raisins</th>\n",
       "      <th>Q6 | Broken glow stick</th>\n",
       "      <th>Q6 | Butterfinger</th>\n",
       "      <th>Q6 | Cadbury Creme Eggs</th>\n",
       "      <th>Q6 | Candy Corn</th>\n",
       "      <th>Q6 | Candy that is clearly just the stuff given out for free at restaurants</th>\n",
       "      <th>Q6 | Caramellos</th>\n",
       "      <th>Q6 | Cash, or other forms of legal tender</th>\n",
       "      <th>Q6 | Chardonnay</th>\n",
       "      <th>Q6 | Chick-o-Sticks (we donÕt know what that is)</th>\n",
       "      <th>Q6 | Chiclets</th>\n",
       "      <th>Q6 | Coffee Crisp</th>\n",
       "      <th>Q6 | Creepy Religious comics/Chick Tracts</th>\n",
       "      <th>Q6 | Dental paraphenalia</th>\n",
       "      <th>Q6 | Dots</th>\n",
       "      <th>Q6 | Dove Bars</th>\n",
       "      <th>Q6 | Fuzzy Peaches</th>\n",
       "      <th>Q6 | Generic Brand Acetaminophen</th>\n",
       "      <th>Q6 | Glow sticks</th>\n",
       "      <th>Q6 | Goo Goo Clusters</th>\n",
       "      <th>Q6 | Good N' Plenty</th>\n",
       "      <th>Q6 | Gum from baseball cards</th>\n",
       "      <th>Q6 | Gummy Bears straight up</th>\n",
       "      <th>Q6 | Hard Candy</th>\n",
       "      <th>Q6 | Healthy Fruit</th>\n",
       "      <th>Q6 | Heath Bar</th>\n",
       "      <th>Q6 | Hershey's Dark Chocolate</th>\n",
       "      <th>Q6 | HersheyÕs Milk Chocolate</th>\n",
       "      <th>Q6 | Hershey's Kisses</th>\n",
       "      <th>Q6 | Hugs (actual physical hugs)</th>\n",
       "      <th>Q6 | Jolly Rancher (bad flavor)</th>\n",
       "      <th>Q6 | Jolly Ranchers (good flavor)</th>\n",
       "      <th>Q6 | JoyJoy (Mit Iodine!)</th>\n",
       "      <th>Q6 | Junior Mints</th>\n",
       "      <th>Q6 | Senior Mints</th>\n",
       "      <th>Q6 | Kale smoothie</th>\n",
       "      <th>Q6 | Kinder Happy Hippo</th>\n",
       "      <th>Q6 | Kit Kat</th>\n",
       "      <th>Q6 | LaffyTaffy</th>\n",
       "      <th>Q6 | LemonHeads</th>\n",
       "      <th>Q6 | Licorice (not black)</th>\n",
       "      <th>Q6 | Licorice (yes black)</th>\n",
       "      <th>Q6 | Lindt Truffle</th>\n",
       "      <th>Q6 | Lollipops</th>\n",
       "      <th>Q6 | Mars</th>\n",
       "      <th>Q6 | Maynards</th>\n",
       "      <th>Q6 | Mike and Ike</th>\n",
       "      <th>Q6 | Milk Duds</th>\n",
       "      <th>Q6 | Milky Way</th>\n",
       "      <th>Q6 | Regular M&amp;Ms</th>\n",
       "      <th>Q6 | Peanut M&amp;MÕs</th>\n",
       "      <th>Q6 | Blue M&amp;M's</th>\n",
       "      <th>Q6 | Red M&amp;M's</th>\n",
       "      <th>Q6 | Green Party M&amp;M's</th>\n",
       "      <th>Q6 | Independent M&amp;M's</th>\n",
       "      <th>Q6 | Abstained from M&amp;M'ing.</th>\n",
       "      <th>Q6 | Minibags of chips</th>\n",
       "      <th>Q6 | Mint Kisses</th>\n",
       "      <th>Q6 | Mint Juleps</th>\n",
       "      <th>Q6 | Mr. Goodbar</th>\n",
       "      <th>Q6 | Necco Wafers</th>\n",
       "      <th>Q6 | Nerds</th>\n",
       "      <th>Q6 | Nestle Crunch</th>\n",
       "      <th>Q6 | Now'n'Laters</th>\n",
       "      <th>Q6 | Peeps</th>\n",
       "      <th>Q6 | Pencils</th>\n",
       "      <th>Q6 | Pixy Stix</th>\n",
       "      <th>Q6 | Real Housewives of Orange County Season 9 Blue-Ray</th>\n",
       "      <th>Q6 | ReeseÕs Peanut Butter Cups</th>\n",
       "      <th>Q6 | Reese's Pieces</th>\n",
       "      <th>Q6 | Reggie Jackson Bar</th>\n",
       "      <th>Q6 | Rolos</th>\n",
       "      <th>Q6 | Sandwich-sized bags filled with BooBerry Crunch</th>\n",
       "      <th>Q6 | Skittles</th>\n",
       "      <th>Q6 | Smarties (American)</th>\n",
       "      <th>Q6 | Smarties (Commonwealth)</th>\n",
       "      <th>Q6 | Snickers</th>\n",
       "      <th>Q6 | Sourpatch Kids (i.e. abominations of nature)</th>\n",
       "      <th>Q6 | Spotted Dick</th>\n",
       "      <th>Q6 | Starburst</th>\n",
       "      <th>Q6 | Sweet Tarts</th>\n",
       "      <th>Q6 | Swedish Fish</th>\n",
       "      <th>Q6 | Sweetums (a friend to diabetes)</th>\n",
       "      <th>Q6 | Take 5</th>\n",
       "      <th>Q6 | Tic Tacs</th>\n",
       "      <th>Q6 | Those odd marshmallow circus peanut things</th>\n",
       "      <th>Q6 | Three Musketeers</th>\n",
       "      <th>Q6 | Tolberone something or other</th>\n",
       "      <th>Q6 | Trail Mix</th>\n",
       "      <th>Q6 | Twix</th>\n",
       "      <th>Q6 | Vials of pure high fructose corn syrup, for main-lining into your vein</th>\n",
       "      <th>Q6 | Vicodin</th>\n",
       "      <th>Q6 | Whatchamacallit Bars</th>\n",
       "      <th>Q6 | White Bread</th>\n",
       "      <th>Q6 | Whole Wheat anything</th>\n",
       "      <th>Q6 | York Peppermint Patties</th>\n",
       "      <th>Q7: JOY OTHER</th>\n",
       "      <th>Q8: DESPAIR OTHER</th>\n",
       "      <th>Q9: OTHER COMMENTS</th>\n",
       "      <th>Q10: DRESS</th>\n",
       "      <th>Unnamed: 113</th>\n",
       "      <th>Q11: DAY</th>\n",
       "      <th>Q12: MEDIA [Daily Dish]</th>\n",
       "      <th>Q12: MEDIA [Science]</th>\n",
       "      <th>Q12: MEDIA [ESPN]</th>\n",
       "      <th>Q12: MEDIA [Yahoo]</th>\n",
       "      <th>Click Coordinates (x, y)</th>\n",
       "    </tr>\n",
       "  </thead>\n",
       "  <tbody>\n",
       "    <tr>\n",
       "      <th>0</th>\n",
       "      <td>90258773</td>\n",
       "      <td>NaN</td>\n",
       "      <td>NaN</td>\n",
       "      <td>NaN</td>\n",
       "      <td>NaN</td>\n",
       "      <td>NaN</td>\n",
       "      <td>NaN</td>\n",
       "      <td>NaN</td>\n",
       "      <td>NaN</td>\n",
       "      <td>NaN</td>\n",
       "      <td>NaN</td>\n",
       "      <td>NaN</td>\n",
       "      <td>NaN</td>\n",
       "      <td>NaN</td>\n",
       "      <td>NaN</td>\n",
       "      <td>NaN</td>\n",
       "      <td>NaN</td>\n",
       "      <td>NaN</td>\n",
       "      <td>NaN</td>\n",
       "      <td>NaN</td>\n",
       "      <td>NaN</td>\n",
       "      <td>NaN</td>\n",
       "      <td>NaN</td>\n",
       "      <td>NaN</td>\n",
       "      <td>NaN</td>\n",
       "      <td>NaN</td>\n",
       "      <td>NaN</td>\n",
       "      <td>NaN</td>\n",
       "      <td>NaN</td>\n",
       "      <td>NaN</td>\n",
       "      <td>NaN</td>\n",
       "      <td>NaN</td>\n",
       "      <td>NaN</td>\n",
       "      <td>NaN</td>\n",
       "      <td>NaN</td>\n",
       "      <td>NaN</td>\n",
       "      <td>NaN</td>\n",
       "      <td>NaN</td>\n",
       "      <td>NaN</td>\n",
       "      <td>NaN</td>\n",
       "      <td>NaN</td>\n",
       "      <td>NaN</td>\n",
       "      <td>NaN</td>\n",
       "      <td>NaN</td>\n",
       "      <td>NaN</td>\n",
       "      <td>NaN</td>\n",
       "      <td>NaN</td>\n",
       "      <td>NaN</td>\n",
       "      <td>NaN</td>\n",
       "      <td>NaN</td>\n",
       "      <td>NaN</td>\n",
       "      <td>NaN</td>\n",
       "      <td>NaN</td>\n",
       "      <td>NaN</td>\n",
       "      <td>NaN</td>\n",
       "      <td>NaN</td>\n",
       "      <td>NaN</td>\n",
       "      <td>NaN</td>\n",
       "      <td>NaN</td>\n",
       "      <td>NaN</td>\n",
       "      <td>NaN</td>\n",
       "      <td>NaN</td>\n",
       "      <td>NaN</td>\n",
       "      <td>NaN</td>\n",
       "      <td>NaN</td>\n",
       "      <td>NaN</td>\n",
       "      <td>NaN</td>\n",
       "      <td>NaN</td>\n",
       "      <td>NaN</td>\n",
       "      <td>NaN</td>\n",
       "      <td>NaN</td>\n",
       "      <td>NaN</td>\n",
       "      <td>NaN</td>\n",
       "      <td>NaN</td>\n",
       "      <td>NaN</td>\n",
       "      <td>NaN</td>\n",
       "      <td>NaN</td>\n",
       "      <td>NaN</td>\n",
       "      <td>NaN</td>\n",
       "      <td>NaN</td>\n",
       "      <td>NaN</td>\n",
       "      <td>NaN</td>\n",
       "      <td>NaN</td>\n",
       "      <td>NaN</td>\n",
       "      <td>NaN</td>\n",
       "      <td>NaN</td>\n",
       "      <td>NaN</td>\n",
       "      <td>NaN</td>\n",
       "      <td>NaN</td>\n",
       "      <td>NaN</td>\n",
       "      <td>NaN</td>\n",
       "      <td>NaN</td>\n",
       "      <td>NaN</td>\n",
       "      <td>NaN</td>\n",
       "      <td>NaN</td>\n",
       "      <td>NaN</td>\n",
       "      <td>NaN</td>\n",
       "      <td>NaN</td>\n",
       "      <td>NaN</td>\n",
       "      <td>NaN</td>\n",
       "      <td>NaN</td>\n",
       "      <td>NaN</td>\n",
       "      <td>NaN</td>\n",
       "      <td>NaN</td>\n",
       "      <td>NaN</td>\n",
       "      <td>NaN</td>\n",
       "      <td>NaN</td>\n",
       "      <td>NaN</td>\n",
       "      <td>NaN</td>\n",
       "      <td>NaN</td>\n",
       "      <td>NaN</td>\n",
       "      <td>NaN</td>\n",
       "      <td>NaN</td>\n",
       "      <td>NaN</td>\n",
       "      <td>NaN</td>\n",
       "      <td>NaN</td>\n",
       "      <td>NaN</td>\n",
       "      <td>NaN</td>\n",
       "      <td>NaN</td>\n",
       "      <td>NaN</td>\n",
       "    </tr>\n",
       "    <tr>\n",
       "      <th>1</th>\n",
       "      <td>90272821</td>\n",
       "      <td>No</td>\n",
       "      <td>Male</td>\n",
       "      <td>44</td>\n",
       "      <td>USA</td>\n",
       "      <td>NM</td>\n",
       "      <td>MEH</td>\n",
       "      <td>DESPAIR</td>\n",
       "      <td>JOY</td>\n",
       "      <td>MEH</td>\n",
       "      <td>DESPAIR</td>\n",
       "      <td>DESPAIR</td>\n",
       "      <td>DESPAIR</td>\n",
       "      <td>DESPAIR</td>\n",
       "      <td>DESPAIR</td>\n",
       "      <td>DESPAIR</td>\n",
       "      <td>MEH</td>\n",
       "      <td>MEH</td>\n",
       "      <td>DESPAIR</td>\n",
       "      <td>MEH</td>\n",
       "      <td>JOY</td>\n",
       "      <td>MEH</td>\n",
       "      <td>DESPAIR</td>\n",
       "      <td>DESPAIR</td>\n",
       "      <td>DESPAIR</td>\n",
       "      <td>DESPAIR</td>\n",
       "      <td>DESPAIR</td>\n",
       "      <td>MEH</td>\n",
       "      <td>JOY</td>\n",
       "      <td>DESPAIR</td>\n",
       "      <td>DESPAIR</td>\n",
       "      <td>DESPAIR</td>\n",
       "      <td>DESPAIR</td>\n",
       "      <td>MEH</td>\n",
       "      <td>DESPAIR</td>\n",
       "      <td>MEH</td>\n",
       "      <td>MEH</td>\n",
       "      <td>DESPAIR</td>\n",
       "      <td>MEH</td>\n",
       "      <td>JOY</td>\n",
       "      <td>JOY</td>\n",
       "      <td>MEH</td>\n",
       "      <td>DESPAIR</td>\n",
       "      <td>DESPAIR</td>\n",
       "      <td>MEH</td>\n",
       "      <td>DESPAIR</td>\n",
       "      <td>DESPAIR</td>\n",
       "      <td>DESPAIR</td>\n",
       "      <td>DESPAIR</td>\n",
       "      <td>DESPAIR</td>\n",
       "      <td>JOY</td>\n",
       "      <td>DESPAIR</td>\n",
       "      <td>MEH</td>\n",
       "      <td>MEH</td>\n",
       "      <td>JOY</td>\n",
       "      <td>MEH</td>\n",
       "      <td>DESPAIR</td>\n",
       "      <td>DESPAIR</td>\n",
       "      <td>DESPAIR</td>\n",
       "      <td>MEH</td>\n",
       "      <td>MEH</td>\n",
       "      <td>JOY</td>\n",
       "      <td>JOY</td>\n",
       "      <td>MEH</td>\n",
       "      <td>JOY</td>\n",
       "      <td>JOY</td>\n",
       "      <td>JOY</td>\n",
       "      <td>JOY</td>\n",
       "      <td>DESPAIR</td>\n",
       "      <td>DESPAIR</td>\n",
       "      <td>MEH</td>\n",
       "      <td>DESPAIR</td>\n",
       "      <td>DESPAIR</td>\n",
       "      <td>DESPAIR</td>\n",
       "      <td>DESPAIR</td>\n",
       "      <td>JOY</td>\n",
       "      <td>DESPAIR</td>\n",
       "      <td>DESPAIR</td>\n",
       "      <td>DESPAIR</td>\n",
       "      <td>DESPAIR</td>\n",
       "      <td>DESPAIR</td>\n",
       "      <td>JOY</td>\n",
       "      <td>JOY</td>\n",
       "      <td>DESPAIR</td>\n",
       "      <td>JOY</td>\n",
       "      <td>DESPAIR</td>\n",
       "      <td>DESPAIR</td>\n",
       "      <td>DESPAIR</td>\n",
       "      <td>DESPAIR</td>\n",
       "      <td>MEH</td>\n",
       "      <td>DESPAIR</td>\n",
       "      <td>DESPAIR</td>\n",
       "      <td>MEH</td>\n",
       "      <td>DESPAIR</td>\n",
       "      <td>MEH</td>\n",
       "      <td>DESPAIR</td>\n",
       "      <td>DESPAIR</td>\n",
       "      <td>DESPAIR</td>\n",
       "      <td>DESPAIR</td>\n",
       "      <td>JOY</td>\n",
       "      <td>JOY</td>\n",
       "      <td>DESPAIR</td>\n",
       "      <td>JOY</td>\n",
       "      <td>DESPAIR</td>\n",
       "      <td>DESPAIR</td>\n",
       "      <td>DESPAIR</td>\n",
       "      <td>DESPAIR</td>\n",
       "      <td>DESPAIR</td>\n",
       "      <td>DESPAIR</td>\n",
       "      <td>Mounds</td>\n",
       "      <td>NaN</td>\n",
       "      <td>Bottom line is Twix is really the only candy w...</td>\n",
       "      <td>White and gold</td>\n",
       "      <td>NaN</td>\n",
       "      <td>Sunday</td>\n",
       "      <td>NaN</td>\n",
       "      <td>1.0</td>\n",
       "      <td>NaN</td>\n",
       "      <td>NaN</td>\n",
       "      <td>(84, 25)</td>\n",
       "    </tr>\n",
       "  </tbody>\n",
       "</table>\n",
       "</div>"
      ],
      "text/plain": [
       "   Internal ID Q1: GOING OUT? Q2: GENDER Q3: AGE Q4: COUNTRY  \\\n",
       "0     90258773            NaN        NaN     NaN         NaN   \n",
       "1     90272821             No       Male      44        USA    \n",
       "\n",
       "  Q5: STATE, PROVINCE, COUNTY, ETC Q6 | 100 Grand Bar  \\\n",
       "0                              NaN                NaN   \n",
       "1                               NM                MEH   \n",
       "\n",
       "  Q6 | Anonymous brown globs that come in black and orange wrappers\\t(a.k.a. Mary Janes)  \\\n",
       "0                                                NaN                                       \n",
       "1                                            DESPAIR                                       \n",
       "\n",
       "  Q6 | Any full-sized candy bar Q6 | Black Jacks Q6 | Bonkers (the candy)  \\\n",
       "0                           NaN              NaN                      NaN   \n",
       "1                           JOY              MEH                  DESPAIR   \n",
       "\n",
       "  Q6 | Bonkers (the board game) Q6 | Bottle Caps Q6 | Box'o'Raisins  \\\n",
       "0                           NaN              NaN                NaN   \n",
       "1                       DESPAIR          DESPAIR            DESPAIR   \n",
       "\n",
       "  Q6 | Broken glow stick Q6 | Butterfinger Q6 | Cadbury Creme Eggs  \\\n",
       "0                    NaN               NaN                     NaN   \n",
       "1                DESPAIR           DESPAIR                     MEH   \n",
       "\n",
       "  Q6 | Candy Corn  \\\n",
       "0             NaN   \n",
       "1             MEH   \n",
       "\n",
       "  Q6 | Candy that is clearly just the stuff given out for free at restaurants  \\\n",
       "0                                                NaN                            \n",
       "1                                            DESPAIR                            \n",
       "\n",
       "  Q6 | Caramellos Q6 | Cash, or other forms of legal tender Q6 | Chardonnay  \\\n",
       "0             NaN                                       NaN             NaN   \n",
       "1             MEH                                       JOY             MEH   \n",
       "\n",
       "  Q6 | Chick-o-Sticks (we donÕt know what that is) Q6 | Chiclets  \\\n",
       "0                                              NaN           NaN   \n",
       "1                                          DESPAIR       DESPAIR   \n",
       "\n",
       "  Q6 | Coffee Crisp Q6 | Creepy Religious comics/Chick Tracts  \\\n",
       "0               NaN                                       NaN   \n",
       "1           DESPAIR                                   DESPAIR   \n",
       "\n",
       "  Q6 | Dental paraphenalia Q6 | Dots Q6 | Dove Bars Q6 | Fuzzy Peaches  \\\n",
       "0                      NaN       NaN            NaN                NaN   \n",
       "1                  DESPAIR       MEH            JOY            DESPAIR   \n",
       "\n",
       "  Q6 | Generic Brand Acetaminophen Q6 | Glow sticks Q6 | Goo Goo Clusters  \\\n",
       "0                              NaN              NaN                   NaN   \n",
       "1                          DESPAIR          DESPAIR               DESPAIR   \n",
       "\n",
       "  Q6 | Good N' Plenty Q6 | Gum from baseball cards  \\\n",
       "0                 NaN                          NaN   \n",
       "1                 MEH                      DESPAIR   \n",
       "\n",
       "  Q6 | Gummy Bears straight up Q6 | Hard Candy Q6 | Healthy Fruit  \\\n",
       "0                          NaN             NaN                NaN   \n",
       "1                          MEH             MEH            DESPAIR   \n",
       "\n",
       "  Q6 | Heath Bar Q6 | Hershey's Dark Chocolate Q6 | HersheyÕs Milk Chocolate  \\\n",
       "0            NaN                           NaN                           NaN   \n",
       "1            MEH                           JOY                           JOY   \n",
       "\n",
       "  Q6 | Hershey's Kisses Q6 | Hugs (actual physical hugs)  \\\n",
       "0                   NaN                              NaN   \n",
       "1                   MEH                          DESPAIR   \n",
       "\n",
       "  Q6 | Jolly Rancher (bad flavor) Q6 | Jolly Ranchers (good flavor)  \\\n",
       "0                             NaN                               NaN   \n",
       "1                         DESPAIR                               MEH   \n",
       "\n",
       "  Q6 | JoyJoy (Mit Iodine!) Q6 | Junior Mints Q6 | Senior Mints  \\\n",
       "0                       NaN               NaN               NaN   \n",
       "1                   DESPAIR           DESPAIR           DESPAIR   \n",
       "\n",
       "  Q6 | Kale smoothie Q6 | Kinder Happy Hippo Q6 | Kit Kat Q6 | LaffyTaffy  \\\n",
       "0                NaN                     NaN          NaN             NaN   \n",
       "1            DESPAIR                 DESPAIR          JOY         DESPAIR   \n",
       "\n",
       "  Q6 | LemonHeads Q6 | Licorice (not black) Q6 | Licorice (yes black)  \\\n",
       "0             NaN                       NaN                       NaN   \n",
       "1             MEH                       MEH                       JOY   \n",
       "\n",
       "  Q6 | Lindt Truffle Q6 | Lollipops Q6 | Mars Q6 | Maynards Q6 | Mike and Ike  \\\n",
       "0                NaN            NaN       NaN           NaN               NaN   \n",
       "1                MEH        DESPAIR   DESPAIR       DESPAIR               MEH   \n",
       "\n",
       "  Q6 | Milk Duds Q6 | Milky Way Q6 | Regular M&Ms Q6 | Peanut M&MÕs  \\\n",
       "0            NaN            NaN               NaN               NaN   \n",
       "1            MEH            JOY               JOY               MEH   \n",
       "\n",
       "  Q6 | Blue M&M's Q6 | Red M&M's Q6 | Green Party M&M's  \\\n",
       "0             NaN            NaN                    NaN   \n",
       "1             JOY            JOY                    JOY   \n",
       "\n",
       "  Q6 | Independent M&M's Q6 | Abstained from M&M'ing. Q6 | Minibags of chips  \\\n",
       "0                    NaN                          NaN                    NaN   \n",
       "1                    JOY                      DESPAIR                DESPAIR   \n",
       "\n",
       "  Q6 | Mint Kisses Q6 | Mint Juleps Q6 | Mr. Goodbar Q6 | Necco Wafers  \\\n",
       "0              NaN              NaN              NaN               NaN   \n",
       "1              MEH          DESPAIR          DESPAIR           DESPAIR   \n",
       "\n",
       "  Q6 | Nerds Q6 | Nestle Crunch Q6 | Now'n'Laters Q6 | Peeps Q6 | Pencils  \\\n",
       "0        NaN                NaN               NaN        NaN          NaN   \n",
       "1    DESPAIR                JOY           DESPAIR    DESPAIR      DESPAIR   \n",
       "\n",
       "  Q6 | Pixy Stix Q6 | Real Housewives of Orange County Season 9 Blue-Ray  \\\n",
       "0            NaN                                                NaN        \n",
       "1        DESPAIR                                            DESPAIR        \n",
       "\n",
       "  Q6 | ReeseÕs Peanut Butter Cups Q6 | Reese's Pieces Q6 | Reggie Jackson Bar  \\\n",
       "0                             NaN                 NaN                     NaN   \n",
       "1                             JOY                 JOY                 DESPAIR   \n",
       "\n",
       "  Q6 | Rolos Q6 | Sandwich-sized bags filled with BooBerry Crunch  \\\n",
       "0        NaN                                                NaN     \n",
       "1        JOY                                            DESPAIR     \n",
       "\n",
       "  Q6 | Skittles Q6 | Smarties (American) Q6 | Smarties (Commonwealth)  \\\n",
       "0           NaN                      NaN                          NaN   \n",
       "1       DESPAIR                  DESPAIR                      DESPAIR   \n",
       "\n",
       "  Q6 | Snickers Q6 | Sourpatch Kids (i.e. abominations of nature)  \\\n",
       "0           NaN                                               NaN   \n",
       "1           MEH                                           DESPAIR   \n",
       "\n",
       "  Q6 | Spotted Dick Q6 | Starburst Q6 | Sweet Tarts Q6 | Swedish Fish  \\\n",
       "0               NaN            NaN              NaN               NaN   \n",
       "1           DESPAIR            MEH          DESPAIR               MEH   \n",
       "\n",
       "  Q6 | Sweetums (a friend to diabetes) Q6 | Take 5 Q6 | Tic Tacs  \\\n",
       "0                                  NaN         NaN           NaN   \n",
       "1                              DESPAIR     DESPAIR       DESPAIR   \n",
       "\n",
       "  Q6 | Those odd marshmallow circus peanut things Q6 | Three Musketeers  \\\n",
       "0                                             NaN                   NaN   \n",
       "1                                         DESPAIR                   JOY   \n",
       "\n",
       "  Q6 | Tolberone something or other Q6 | Trail Mix Q6 | Twix  \\\n",
       "0                               NaN            NaN       NaN   \n",
       "1                               JOY        DESPAIR       JOY   \n",
       "\n",
       "  Q6 | Vials of pure high fructose corn syrup, for main-lining into your vein  \\\n",
       "0                                                NaN                            \n",
       "1                                            DESPAIR                            \n",
       "\n",
       "  Q6 | Vicodin Q6 | Whatchamacallit Bars Q6 | White Bread  \\\n",
       "0          NaN                       NaN              NaN   \n",
       "1      DESPAIR                   DESPAIR          DESPAIR   \n",
       "\n",
       "  Q6 | Whole Wheat anything Q6 | York Peppermint Patties Q7: JOY OTHER  \\\n",
       "0                       NaN                          NaN           NaN   \n",
       "1                   DESPAIR                      DESPAIR        Mounds   \n",
       "\n",
       "  Q8: DESPAIR OTHER                                 Q9: OTHER COMMENTS  \\\n",
       "0               NaN                                                NaN   \n",
       "1               NaN  Bottom line is Twix is really the only candy w...   \n",
       "\n",
       "       Q10: DRESS Unnamed: 113 Q11: DAY  Q12: MEDIA [Daily Dish]  \\\n",
       "0             NaN          NaN      NaN                      NaN   \n",
       "1  White and gold          NaN   Sunday                      NaN   \n",
       "\n",
       "   Q12: MEDIA [Science]  Q12: MEDIA [ESPN]  Q12: MEDIA [Yahoo]  \\\n",
       "0                   NaN                NaN                 NaN   \n",
       "1                   1.0                NaN                 NaN   \n",
       "\n",
       "  Click Coordinates (x, y)  \n",
       "0                      NaN  \n",
       "1                 (84, 25)  "
      ]
     },
     "execution_count": 1,
     "metadata": {},
     "output_type": "execute_result"
    }
   ],
   "source": [
    "import pandas as pd\n",
    "pd.set_option('display.max_columns', None)\n",
    "pd.set_option('display.max_rows', None)\n",
    "candy = pd.read_csv(\"candyhierarchy2017.csv\", encoding='ISO-8859-1')\n",
    "candy.head(2)\n",
    "\n"
   ]
  },
  {
   "cell_type": "code",
   "execution_count": 2,
   "id": "7b95aaa9",
   "metadata": {},
   "outputs": [
    {
     "data": {
      "text/plain": [
       "(2460, 120)"
      ]
     },
     "execution_count": 2,
     "metadata": {},
     "output_type": "execute_result"
    }
   ],
   "source": [
    "candy.shape"
   ]
  },
  {
   "cell_type": "markdown",
   "id": "48415211",
   "metadata": {},
   "source": [
    "# Histogram"
   ]
  },
  {
   "cell_type": "code",
   "execution_count": 7,
   "id": "e9dea97a",
   "metadata": {},
   "outputs": [],
   "source": [
    "candy = candy.dropna(subset=['Q3: AGE'])\n",
    "candy = candy[candy[\"Q3: AGE\"].str.contains(r'^\\d+$')]"
   ]
  },
  {
   "cell_type": "code",
   "execution_count": 12,
   "id": "dc1c2418",
   "metadata": {},
   "outputs": [],
   "source": [
    "candy['Q3: AGE']=candy['Q3: AGE'].astype(int)"
   ]
  },
  {
   "cell_type": "code",
   "execution_count": 15,
   "id": "91400f0c",
   "metadata": {},
   "outputs": [],
   "source": [
    "candy = candy[candy[\"Q3: AGE\"] <= 150]"
   ]
  },
  {
   "cell_type": "code",
   "execution_count": 16,
   "id": "e501fa76",
   "metadata": {},
   "outputs": [
    {
     "data": {
      "text/plain": [
       "array([[<AxesSubplot:title={'center':'Q3: AGE'}>]], dtype=object)"
      ]
     },
     "execution_count": 16,
     "metadata": {},
     "output_type": "execute_result"
    },
    {
     "data": {
      "image/png": "[encoded data removed]",
      "text/plain": [
       "<Figure size 640x480 with 1 Axes>"
      ]
     },
     "metadata": {},
     "output_type": "display_data"
    }
   ],
   "source": [
    "candy.hist(column = 'Q3: AGE')"
   ]
  },
  {
   "cell_type": "markdown",
   "id": "2832637e",
   "metadata": {},
   "source": [
    "# Bar"
   ]
  },
  {
   "cell_type": "code",
   "execution_count": 57,
   "id": "3b108bb5",
   "metadata": {},
   "outputs": [
    {
     "data": {
      "text/plain": [
       "<AxesSubplot:>"
      ]
     },
     "execution_count": 57,
     "metadata": {},
     "output_type": "execute_result"
    },
    {
     "data": {
      "image/png": "[encoded data removed]",
      "text/plain": [
       "<Figure size 640x480 with 1 Axes>"
      ]
     },
     "metadata": {},
     "output_type": "display_data"
    }
   ],
   "source": [
    "candy['Q2: GENDER'].value_counts().plot(kind='bar')  "
   ]
  },
  {
   "cell_type": "markdown",
   "id": "545e6f96",
   "metadata": {},
   "source": [
    "# Pie-Chart"
   ]
  },
  {
   "cell_type": "code",
   "execution_count": 18,
   "id": "989485e1",
   "metadata": {},
   "outputs": [
    {
     "data": {
      "text/plain": [
       "JOY        849\n",
       "MEH        728\n",
       "DESPAIR     82\n",
       "Name: Q6 | 100 Grand Bar, dtype: int64"
      ]
     },
     "execution_count": 18,
     "metadata": {},
     "output_type": "execute_result"
    }
   ],
   "source": [
    "candy['Q6 | 100 Grand Bar'].value_counts()"
   ]
  },
  {
   "cell_type": "code",
   "execution_count": 22,
   "id": "1990a652",
   "metadata": {},
   "outputs": [],
   "source": [
    "candy = candy.dropna(subset=['Q6 | 100 Grand Bar'])"
   ]
  },
  {
   "cell_type": "code",
   "execution_count": 26,
   "id": "a715a835",
   "metadata": {},
   "outputs": [],
   "source": [
    "candy['Q6 | 100 Grand Bar']=candy['Q6 | 100 Grand Bar'].astype(pd.StringDtype())"
   ]
  },
  {
   "cell_type": "code",
   "execution_count": 32,
   "id": "fa7fada5",
   "metadata": {},
   "outputs": [
    {
     "data": {
      "text/plain": [
       "<AxesSubplot:ylabel='Q6 | 100 Grand Bar'>"
      ]
     },
     "execution_count": 32,
     "metadata": {},
     "output_type": "execute_result"
    },
    {
     "data": {
      "image/png": "[encoded data removed]",
      "text/plain": [
       "<Figure size 640x480 with 1 Axes>"
      ]
     },
     "metadata": {},
     "output_type": "display_data"
    }
   ],
   "source": [
    "candy['Q6 | 100 Grand Bar'].value_counts().plot(kind='pie')"
   ]
  },
  {
   "cell_type": "code",
   "execution_count": null,
   "id": "735caab0",
   "metadata": {},
   "outputs": [],
   "source": []
  }
 ],
 "metadata": {
  "kernelspec": {
   "display_name": "Python 3 (ipykernel)",
   "language": "python",
   "name": "python3"
  },
  "language_info": {
   "codemirror_mode": {
    "name": "ipython",
    "version": 3
   },
   "file_extension": ".py",
   "mimetype": "text/x-python",
   "name": "python",
   "nbconvert_exporter": "python",
   "pygments_lexer": "ipython3",
   "version": "3.9.13"
  }
 },
 "nbformat": 4,
 "nbformat_minor": 5
}
